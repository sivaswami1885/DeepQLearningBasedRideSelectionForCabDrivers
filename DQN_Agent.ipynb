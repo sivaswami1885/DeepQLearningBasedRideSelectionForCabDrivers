{
 "cells": [
  {
   "cell_type": "markdown",
   "metadata": {},
   "source": [
    "### Cab-Driver Agent"
   ]
  },
  {
   "cell_type": "code",
   "execution_count": 1,
   "metadata": {},
   "outputs": [],
   "source": [
    "# Importing libraries\n",
    "import numpy as np\n",
    "import random\n",
    "import math\n",
    "from collections import deque\n",
    "import collections\n",
    "import pickle\n",
    "import time\n",
    "\n",
    "# for building DQN model\n",
    "from keras import layers\n",
    "from keras import Sequential\n",
    "from keras.layers import Dense, Activation, Flatten\n",
    "from keras.optimizers import Adam\n",
    "\n",
    "# for plotting graphs\n",
    "import matplotlib.pyplot as plt\n",
    "from tqdm import tqdm\n",
    "# Import the environment\n",
    "from Env import CabDriver"
   ]
  },
  {
   "cell_type": "markdown",
   "metadata": {},
   "source": [
    "#### Defining Time Matrix"
   ]
  },
  {
   "cell_type": "code",
   "execution_count": 2,
   "metadata": {},
   "outputs": [],
   "source": [
    "# Loading the time matrix provided\n",
    "Time_matrix = np.load(\"TM.npy\")"
   ]
  },
  {
   "cell_type": "code",
   "execution_count": 3,
   "metadata": {},
   "outputs": [
    {
     "data": {
      "text/plain": [
       "0.0"
      ]
     },
     "execution_count": 3,
     "metadata": {},
     "output_type": "execute_result"
    }
   ],
   "source": [
    "Time_matrix[0][0][21][6]"
   ]
  },
  {
   "cell_type": "code",
   "execution_count": 4,
   "metadata": {},
   "outputs": [],
   "source": [
    "#Defining a function to save the Q-dictionary as a pickle file\n",
    "def save_obj(obj, name ):\n",
    "    with open(name + '.pkl', 'wb') as f:\n",
    "        pickle.dump(obj, f, pickle.HIGHEST_PROTOCOL)"
   ]
  },
  {
   "cell_type": "markdown",
   "metadata": {},
   "source": [
    "### Agent Class\n",
    "\n",
    "If you are using this framework, you need to fill the following to complete the following code block:\n",
    "1. State and Action Size\n",
    "2. Hyperparameters\n",
    "3. Create a neural-network model in function 'build_model()'\n",
    "4. Define epsilon-greedy strategy in function 'get_action()'\n",
    "5. Complete the function 'append_sample()'. This function appends the recent experience tuple <state, action, reward, new-state> to the memory\n",
    "6. Complete the 'train_model()' function with following logic:\n",
    "   - If the memory size is greater than mini-batch size, you randomly sample experiences from memory as per the mini-batch size and do the following:\n",
    "      - Initialise your input and output batch for training the model\n",
    "      - Calculate the target Q value for each sample: reward + gamma*max(Q(s'a,))\n",
    "      - Get Q(s', a) values from the last trained model\n",
    "      - Update the input batch as your encoded state and output batch as your Q-values\n",
    "      - Then fit your DQN model using the updated input and output batch."
   ]
  },
  {
   "cell_type": "code",
   "execution_count": 5,
   "metadata": {},
   "outputs": [],
   "source": [
    "class DQNAgent:\n",
    "    def __init__(self, state_size, action_size, discount_factor=0.95, learning_rate=0.01,\n",
    "                       epsilon=1, epsilon_decay=0.99, epsilon_min=0.01):\n",
    "        # Define size of state and action\n",
    "        self.state_size = state_size\n",
    "        self.action_size = action_size\n",
    "\n",
    "        # Write here: Specify you hyper parameters for the DQN\n",
    "        self.discount_factor = discount_factor\n",
    "        self.learning_rate =  learning_rate      \n",
    "        self.epsilon_max = epsilon\n",
    "        self.epsilon_decay = epsilon_decay\n",
    "        self.epsilon_min = epsilon_min\n",
    "        \n",
    "        self.batch_size = 32        \n",
    "        # create replay memory using deque\n",
    "        self.memory = deque(maxlen=2000)\n",
    "        \n",
    "        # Initialize the value of the states tracked\n",
    "        self.states_tracked = []\n",
    "\n",
    "        # We are going to track state [0,0,0] and action (0,2) at index 2 in the action space.\n",
    "        self.track_state = np.array(env.state_encod_arch1([0,0,0])).reshape(1, 36)\n",
    "        \n",
    "        # create main model and target model\n",
    "        self.model = self.build_model()\n",
    "\n",
    "    # approximate Q function using Neural Network\n",
    "    def build_model(self):\n",
    "        model = Sequential()\n",
    "        # Write your code here: Add layers to your neural nets       \n",
    "\n",
    "        # hidden layers\n",
    "        model.add(Dense(32, input_dim=self.state_size, activation='relu', kernel_initializer='he_uniform'))\n",
    "        model.add(Dense(32, activation='relu', kernel_initializer='he_uniform'))\n",
    "\n",
    "        # the output layer: output is of size num_actions\n",
    "        model.add(Dense(self.action_size, activation='relu', kernel_initializer='he_uniform'))\n",
    "        \n",
    "        model.compile(loss='mse',optimizer=Adam(lr=self.learning_rate))\n",
    "        model.summary\n",
    "        return model\n",
    "\n",
    "\n",
    "\n",
    "    def get_action(self, state, episode, possible_actions_index, actions):\n",
    "    # Write your code here:\n",
    "    # get action from model using epsilon-greedy policy\n",
    "    # Decay in ε after we generate each sample from the environment       \n",
    "        self.epsilon = self.epsilon_min + (self.epsilon_max - self.epsilon_min) * np.exp(-0.0009*episode)\n",
    "        \n",
    "        if np.random.rand() <= self.epsilon:\n",
    "            # explore: choose a random action from all possible actions\n",
    "            return random.choice(possible_actions_index)\n",
    "        else:\n",
    "            # choose the action with the highest q(s, a)\n",
    "            # the first index corresponds to the batch size, so\n",
    "            # reshape state to (1, state_size) so that the first index corresponds to the batch size\n",
    "            state = np.array(env.state_encod_arch1(state)).reshape(1, self.state_size)\n",
    "            q_value = self.model.predict(state)\n",
    "            \n",
    "            qval_possible = [q_value[0][i] for i in possible_actions_index]\n",
    "            \n",
    "            return possible_actions_index[np.argmax(qval_possible)]\n",
    "        \n",
    "\n",
    "    def append_sample(self, state, action, reward, next_state, done):\n",
    "    # Write your code here:\n",
    "    # save sample <s,a,r,s'> to the replay memory\n",
    "        self.memory.append((state, action, reward, next_state, done))\n",
    "\n",
    "    \n",
    "    \n",
    "    # pick samples randomly from replay memory (with batch_size) and train the network\n",
    "    def train_model(self):\n",
    "        \n",
    "        if len(self.memory) > self.batch_size:\n",
    "            # Sample batch from the memory\n",
    "            mini_batch = random.sample(self.memory, self.batch_size)\n",
    "            \n",
    "            update_output = np.zeros((self.batch_size, self.state_size))\n",
    "            update_input = np.zeros((self.batch_size, self.state_size))\n",
    "            \n",
    "            actions, rewards, done = [], [], []\n",
    "            \n",
    "            for i in range(self.batch_size):\n",
    "                state, action, reward, next_state, done_element_wise = mini_batch[i]\n",
    "                update_input[i] = env.state_encod_arch1(state)\n",
    "                actions.append(action)\n",
    "                rewards.append(reward)\n",
    "                update_output[i] = env.state_encod_arch1(next_state)       \n",
    "                done.append(done_element_wise)\n",
    "\n",
    "\n",
    "            # Write your code from here\n",
    "            # 1. Predict the target from earlier model\n",
    "            target = self.model.predict(update_input)\n",
    "\n",
    "\n",
    "            # 2. Get the target for the Q-network\n",
    "            target_qval = self.model.predict(update_output)\n",
    "\n",
    "            #3. Update your 'update_output' and 'update_input' batch\n",
    "            for i in range(self.batch_size):\n",
    "                if done[i]:\n",
    "                    target[i][actions[i]] = rewards[i]\n",
    "                else: # non-terminal state\n",
    "                    target[i][actions[i]] = rewards[i] + self.discount_factor * np.max(target_qval[i])\n",
    "                \n",
    "                \n",
    "        # 4. Fit your model and track the loss values\n",
    "            self.model.fit(update_input, target, batch_size=self.batch_size, epochs=1, verbose=0)\n",
    "\n",
    "    def save_tracking_states(self):\n",
    "        # Use the model to predict the q_value of the state we are tacking.\n",
    "        q_value = self.model.predict(self.track_state)\n",
    "        # Grab the q_value of the action index that we are tracking.\n",
    "        self.states_tracked.append(q_value[0][2])\n",
    "\n",
    "    def save_test_states(self):\n",
    "        # Use the model to predict the q_value of the state we are tacking.\n",
    "        q_value = self.model.predict(self.track_state)\n",
    "        \n",
    "        # Grab the q_value of the action index that we are tracking.\n",
    "        self.states_tracked.append(q_value[0][2])\n",
    "        \n",
    "    def save(self, name):\n",
    "        self.model.save(name)       \n"
   ]
  },
  {
   "cell_type": "code",
   "execution_count": 6,
   "metadata": {},
   "outputs": [],
   "source": [
    "per_episode_time = 24*30 #24 hours /day and 30 days before the car has to be recharged\n",
    "Episodes = 10000\n",
    "rewards_per_episode=[]\n",
    "episodes=[]\n",
    "m = 5\n",
    "t = 24\n",
    "d = 7\n",
    "\n",
    "# Call the environment\n",
    "env = CabDriver()\n",
    "# Call all the initialised variables of the environment\n",
    "action_space, state_space, state = env.reset()\n",
    "\n",
    "#Call the DQN agent\n",
    "agent = DQNAgent(m+t+d, len(action_space))"
   ]
  },
  {
   "cell_type": "markdown",
   "metadata": {},
   "source": [
    "### DQN block"
   ]
  },
  {
   "cell_type": "code",
   "execution_count": 7,
   "metadata": {
    "scrolled": true
   },
   "outputs": [
    {
     "name": "stderr",
     "output_type": "stream",
     "text": [
      "  1%|▊                                                                          | 100/10000 [24:55<37:57:54, 13.81s/it]"
     ]
    },
    {
     "name": "stdout",
     "output_type": "stream",
     "text": [
      "reward -292.0, memory_length 2000, epsilon 0.9156065526552583 total_time 726.0\n"
     ]
    },
    {
     "name": "stderr",
     "output_type": "stream",
     "text": [
      "  2%|█▌                                                                         | 200/10000 [48:52<38:14:59, 14.05s/it]"
     ]
    },
    {
     "name": "stdout",
     "output_type": "stream",
     "text": [
      "reward -64.0, memory_length 2000, epsilon 0.8376620700576112 total_time 724.0\n"
     ]
    },
    {
     "name": "stderr",
     "output_type": "stream",
     "text": [
      "  3%|██▏                                                                      | 300/10000 [1:15:50<41:12:06, 15.29s/it]"
     ]
    },
    {
     "name": "stdout",
     "output_type": "stream",
     "text": [
      "reward 443.0, memory_length 2000, epsilon 0.7664261766917908 total_time 721.0\n"
     ]
    },
    {
     "name": "stderr",
     "output_type": "stream",
     "text": [
      "  4%|██▉                                                                      | 400/10000 [1:41:20<45:29:52, 17.06s/it]"
     ]
    },
    {
     "name": "stdout",
     "output_type": "stream",
     "text": [
      "reward 552.0, memory_length 2000, epsilon 0.7013214722341118 total_time 722.0\n"
     ]
    },
    {
     "name": "stderr",
     "output_type": "stream",
     "text": [
      "  5%|███▋                                                                     | 499/10000 [2:06:46<39:44:48, 15.06s/it]"
     ]
    },
    {
     "name": "stdout",
     "output_type": "stream",
     "text": [
      "reward 109.0, memory_length 2000, epsilon 0.6418202525223723 total_time 721.0\n",
      "Saving Model 499\n",
      "WARNING:tensorflow:From C:\\Users\\e0368301\\AppData\\Local\\Continuum\\anaconda3\\lib\\site-packages\\tensorflow\\python\\training\\tracking\\tracking.py:111: Model.state_updates (from tensorflow.python.keras.engine.training) is deprecated and will be removed in a future version.\n",
      "Instructions for updating:\n",
      "This property should not be used in TensorFlow 2.0, as updates are applied automatically.\n",
      "WARNING:tensorflow:From C:\\Users\\e0368301\\AppData\\Local\\Continuum\\anaconda3\\lib\\site-packages\\tensorflow\\python\\training\\tracking\\tracking.py:111: Layer.updates (from tensorflow.python.keras.engine.base_layer) is deprecated and will be removed in a future version.\n",
      "Instructions for updating:\n",
      "This property should not be used in TensorFlow 2.0, as updates are applied automatically.\n",
      "INFO:tensorflow:Assets written to: Saved_Model\\assets\n"
     ]
    },
    {
     "name": "stderr",
     "output_type": "stream",
     "text": [
      "  6%|████▍                                                                    | 600/10000 [2:33:23<37:29:33, 14.36s/it]"
     ]
    },
    {
     "name": "stdout",
     "output_type": "stream",
     "text": [
      "reward 422.0, memory_length 2000, epsilon 0.5874402322661385 total_time 722.0\n"
     ]
    },
    {
     "name": "stderr",
     "output_type": "stream",
     "text": [
      "  7%|█████                                                                    | 700/10000 [3:06:38<53:42:57, 20.79s/it]"
     ]
    },
    {
     "name": "stdout",
     "output_type": "stream",
     "text": [
      "reward 149.0, memory_length 2000, epsilon 0.5377406358982851 total_time 726.0\n"
     ]
    },
    {
     "name": "stderr",
     "output_type": "stream",
     "text": [
      "  8%|█████▊                                                                   | 800/10000 [3:47:48<82:07:06, 32.13s/it]"
     ]
    },
    {
     "name": "stdout",
     "output_type": "stream",
     "text": [
      "reward 756.0, memory_length 2000, epsilon 0.4923186248823115 total_time 721.0\n"
     ]
    },
    {
     "name": "stderr",
     "output_type": "stream",
     "text": [
      "  9%|██████▌                                                                  | 900/10000 [4:36:16<48:43:51, 19.28s/it]"
     ]
    },
    {
     "name": "stdout",
     "output_type": "stream",
     "text": [
      "reward 749.0, memory_length 2000, epsilon 0.45080603251707985 total_time 724.0\n"
     ]
    },
    {
     "name": "stderr",
     "output_type": "stream",
     "text": [
      " 10%|███████▎                                                                 | 999/10000 [5:11:08<58:05:01, 23.23s/it]"
     ]
    },
    {
     "name": "stdout",
     "output_type": "stream",
     "text": [
      "reward 783.0, memory_length 2000, epsilon 0.4128663797730423 total_time 726.0\n",
      "Saving Model 999\n",
      "INFO:tensorflow:Assets written to: Saved_Model\\assets\n"
     ]
    },
    {
     "name": "stderr",
     "output_type": "stream",
     "text": [
      " 11%|███████▉                                                                | 1100/10000 [5:44:17<45:58:46, 18.60s/it]"
     ]
    },
    {
     "name": "stdout",
     "output_type": "stream",
     "text": [
      "reward 960.0, memory_length 2000, epsilon 0.3781921479719053 total_time 728.0\n"
     ]
    },
    {
     "name": "stderr",
     "output_type": "stream",
     "text": [
      " 12%|████████▋                                                               | 1200/10000 [6:17:09<51:16:22, 20.98s/it]"
     ]
    },
    {
     "name": "stdout",
     "output_type": "stream",
     "text": [
      "reward 747.0, memory_length 2000, epsilon 0.34650228620352286 total_time 731.0\n"
     ]
    },
    {
     "name": "stderr",
     "output_type": "stream",
     "text": [
      " 13%|█████████▎                                                              | 1300/10000 [6:51:00<45:31:45, 18.84s/it]"
     ]
    },
    {
     "name": "stdout",
     "output_type": "stream",
     "text": [
      "reward 1100.0, memory_length 2000, epsilon 0.3175399332764637 total_time 721.0\n"
     ]
    },
    {
     "name": "stderr",
     "output_type": "stream",
     "text": [
      " 14%|██████████                                                              | 1400/10000 [7:25:12<58:28:41, 24.48s/it]"
     ]
    },
    {
     "name": "stdout",
     "output_type": "stream",
     "text": [
      "reward 878.0, memory_length 2000, epsilon 0.29107033573759294 total_time 726.0\n"
     ]
    },
    {
     "name": "stderr",
     "output_type": "stream",
     "text": [
      " 15%|██████████▊                                                             | 1499/10000 [8:01:47<52:40:09, 22.30s/it]"
     ]
    },
    {
     "name": "stdout",
     "output_type": "stream",
     "text": [
      "reward 795.0, memory_length 2000, epsilon 0.26687894508524035 total_time 724.0\n",
      "Saving Model 1499\n",
      "INFO:tensorflow:Assets written to: Saved_Model\\assets\n"
     ]
    },
    {
     "name": "stderr",
     "output_type": "stream",
     "text": [
      " 16%|███████████▌                                                            | 1600/10000 [8:37:50<43:03:44, 18.46s/it]"
     ]
    },
    {
     "name": "stdout",
     "output_type": "stream",
     "text": [
      "reward 856.0, memory_length 2000, epsilon 0.24476967875297642 total_time 728.0\n"
     ]
    },
    {
     "name": "stderr",
     "output_type": "stream",
     "text": [
      " 17%|████████████▏                                                           | 1700/10000 [9:13:22<43:03:14, 18.67s/it]"
     ]
    },
    {
     "name": "stdout",
     "output_type": "stream",
     "text": [
      "reward 944.0, memory_length 2000, epsilon 0.22456333076845322 total_time 721.0\n"
     ]
    },
    {
     "name": "stderr",
     "output_type": "stream",
     "text": [
      " 18%|████████████▉                                                           | 1800/10000 [9:45:51<39:20:56, 17.28s/it]"
     ]
    },
    {
     "name": "stdout",
     "output_type": "stream",
     "text": [
      "reward 960.0, memory_length 2000, epsilon 0.20609611920495505 total_time 726.0\n"
     ]
    },
    {
     "name": "stderr",
     "output_type": "stream",
     "text": [
      " 19%|█████████████▍                                                         | 1900/10000 [10:22:12<35:19:43, 15.70s/it]"
     ]
    },
    {
     "name": "stdout",
     "output_type": "stream",
     "text": [
      "reward 1086.0, memory_length 2000, epsilon 0.1892183586520726 total_time 730.0\n"
     ]
    },
    {
     "name": "stderr",
     "output_type": "stream",
     "text": [
      " 20%|██████████████▏                                                        | 1999/10000 [10:53:24<43:27:09, 19.55s/it]"
     ]
    },
    {
     "name": "stdout",
     "output_type": "stream",
     "text": [
      "reward 1150.0, memory_length 2000, epsilon 0.17379324694525283 total_time 723.0\n",
      "Saving Model 1999\n",
      "INFO:tensorflow:Assets written to: Saved_Model\\assets\n"
     ]
    },
    {
     "name": "stderr",
     "output_type": "stream",
     "text": [
      " 21%|██████████████▉                                                        | 2100/10000 [11:28:34<42:03:11, 19.16s/it]"
     ]
    },
    {
     "name": "stdout",
     "output_type": "stream",
     "text": [
      "reward 1095.0, memory_length 2000, epsilon 0.15969575632009786 total_time 725.0\n"
     ]
    },
    {
     "name": "stderr",
     "output_type": "stream",
     "text": [
      " 22%|███████████████▌                                                       | 2200/10000 [12:01:43<42:37:49, 19.68s/it]"
     ]
    },
    {
     "name": "stdout",
     "output_type": "stream",
     "text": [
      "reward 1141.0, memory_length 2000, epsilon 0.14681162000370002 total_time 722.0\n"
     ]
    },
    {
     "name": "stderr",
     "output_type": "stream",
     "text": [
      " 23%|████████████████▎                                                      | 2300/10000 [12:27:35<28:21:14, 13.26s/it]"
     ]
    },
    {
     "name": "stdout",
     "output_type": "stream",
     "text": [
      "reward 1398.0, memory_length 2000, epsilon 0.13503640602885839 total_time 727.0\n"
     ]
    },
    {
     "name": "stderr",
     "output_type": "stream",
     "text": [
      " 24%|█████████████████                                                      | 2400/10000 [12:49:21<27:07:18, 12.85s/it]"
     ]
    },
    {
     "name": "stdout",
     "output_type": "stream",
     "text": [
      "reward 1437.0, memory_length 2000, epsilon 0.12427467076400908 total_time 730.0\n"
     ]
    },
    {
     "name": "stderr",
     "output_type": "stream",
     "text": [
      " 25%|█████████████████▋                                                     | 2499/10000 [13:11:03<27:50:38, 13.36s/it]"
     ]
    },
    {
     "name": "stdout",
     "output_type": "stream",
     "text": [
      "reward 1022.0, memory_length 2000, epsilon 0.11443918529783022 total_time 727.0\n",
      "Saving Model 2499\n",
      "INFO:tensorflow:Assets written to: Saved_Model\\assets\n"
     ]
    },
    {
     "name": "stderr",
     "output_type": "stream",
     "text": [
      " 26%|██████████████████▍                                                    | 2600/10000 [13:33:06<26:19:12, 12.80s/it]"
     ]
    },
    {
     "name": "stdout",
     "output_type": "stream",
     "text": [
      "reward 1131.0, memory_length 2000, epsilon 0.10545022840800741 total_time 723.0\n"
     ]
    },
    {
     "name": "stderr",
     "output_type": "stream",
     "text": [
      " 27%|███████████████████▏                                                   | 2700/10000 [13:54:53<25:56:11, 12.79s/it]"
     ]
    },
    {
     "name": "stdout",
     "output_type": "stream",
     "text": [
      "reward 1807.0, memory_length 2000, epsilon 0.09723494038333963 total_time 725.0\n"
     ]
    },
    {
     "name": "stderr",
     "output_type": "stream",
     "text": [
      " 28%|███████████████████▉                                                   | 2800/10000 [14:16:46<26:45:03, 13.38s/it]"
     ]
    },
    {
     "name": "stdout",
     "output_type": "stream",
     "text": [
      "reward 1323.0, memory_length 2000, epsilon 0.08972673246161053 total_time 725.0\n"
     ]
    },
    {
     "name": "stderr",
     "output_type": "stream",
     "text": [
      " 29%|████████████████████▌                                                  | 2900/10000 [14:38:23<25:49:50, 13.10s/it]"
     ]
    },
    {
     "name": "stdout",
     "output_type": "stream",
     "text": [
      "reward 1033.0, memory_length 2000, epsilon 0.08286474709644183 total_time 726.0\n"
     ]
    },
    {
     "name": "stderr",
     "output_type": "stream",
     "text": [
      " 30%|█████████████████████▎                                                 | 2999/10000 [15:00:11<26:24:49, 13.58s/it]"
     ]
    },
    {
     "name": "stdout",
     "output_type": "stream",
     "text": [
      "reward 1385.0, memory_length 2000, epsilon 0.07659336467833934 total_time 721.0\n",
      "Saving Model 2999\n",
      "INFO:tensorflow:Assets written to: Saved_Model\\assets\n"
     ]
    },
    {
     "name": "stderr",
     "output_type": "stream",
     "text": [
      " 31%|██████████████████████                                                 | 3100/10000 [15:22:18<23:57:04, 12.50s/it]"
     ]
    },
    {
     "name": "stdout",
     "output_type": "stream",
     "text": [
      "reward 1473.0, memory_length 2000, epsilon 0.07086175271167383 total_time 725.0\n"
     ]
    },
    {
     "name": "stderr",
     "output_type": "stream",
     "text": [
      " 32%|██████████████████████▋                                                | 3200/10000 [15:44:25<24:13:32, 12.83s/it]"
     ]
    },
    {
     "name": "stdout",
     "output_type": "stream",
     "text": [
      "reward 1283.0, memory_length 2000, epsilon 0.06562345379346446 total_time 721.0\n"
     ]
    },
    {
     "name": "stderr",
     "output_type": "stream",
     "text": [
      " 33%|███████████████████████▍                                               | 3300/10000 [16:08:08<26:35:24, 14.29s/it]"
     ]
    },
    {
     "name": "stdout",
     "output_type": "stream",
     "text": [
      "reward 1236.0, memory_length 2000, epsilon 0.060836009054340355 total_time 723.0\n"
     ]
    },
    {
     "name": "stderr",
     "output_type": "stream",
     "text": [
      " 34%|████████████████████████▏                                              | 3400/10000 [16:33:17<27:33:55, 15.04s/it]"
     ]
    },
    {
     "name": "stdout",
     "output_type": "stream",
     "text": [
      "reward 1149.0, memory_length 2000, epsilon 0.05646061400949217 total_time 722.0\n"
     ]
    },
    {
     "name": "stderr",
     "output_type": "stream",
     "text": [
      " 35%|████████████████████████▊                                              | 3499/10000 [16:58:37<27:30:02, 15.23s/it]"
     ]
    },
    {
     "name": "stdout",
     "output_type": "stream",
     "text": [
      "reward 1522.0, memory_length 2000, epsilon 0.052461804030124216 total_time 728.0\n",
      "Saving Model 3499\n",
      "INFO:tensorflow:Assets written to: Saved_Model\\assets\n"
     ]
    },
    {
     "name": "stderr",
     "output_type": "stream",
     "text": [
      " 36%|█████████████████████████▌                                             | 3600/10000 [17:24:40<28:33:32, 16.06s/it]"
     ]
    },
    {
     "name": "stdout",
     "output_type": "stream",
     "text": [
      "reward 1416.0, memory_length 2000, epsilon 0.04880716688600603 total_time 722.0\n"
     ]
    },
    {
     "name": "stderr",
     "output_type": "stream",
     "text": [
      " 37%|██████████████████████████▎                                            | 3700/10000 [17:50:31<26:10:12, 14.95s/it]"
     ]
    },
    {
     "name": "stdout",
     "output_type": "stream",
     "text": [
      "reward 1719.0, memory_length 2000, epsilon 0.045467080029145845 total_time 727.0\n"
     ]
    },
    {
     "name": "stderr",
     "output_type": "stream",
     "text": [
      " 38%|██████████████████████████▉                                            | 3800/10000 [18:15:51<27:20:16, 15.87s/it]"
     ]
    },
    {
     "name": "stdout",
     "output_type": "stream",
     "text": [
      "reward 1465.0, memory_length 2000, epsilon 0.04241447048914678 total_time 726.0\n"
     ]
    },
    {
     "name": "stderr",
     "output_type": "stream",
     "text": [
      " 39%|███████████████████████████▋                                           | 3900/10000 [18:42:16<25:46:41, 15.21s/it]"
     ]
    },
    {
     "name": "stdout",
     "output_type": "stream",
     "text": [
      "reward 1761.0, memory_length 2000, epsilon 0.039624595434085155 total_time 725.0\n"
     ]
    },
    {
     "name": "stderr",
     "output_type": "stream",
     "text": [
      " 40%|████████████████████████████▍                                          | 3999/10000 [19:07:15<24:35:21, 14.75s/it]"
     ]
    },
    {
     "name": "stdout",
     "output_type": "stream",
     "text": [
      "reward 1666.0, memory_length 2000, epsilon 0.03707484161825406 total_time 729.0\n",
      "Saving Model 3999\n",
      "INFO:tensorflow:Assets written to: Saved_Model\\assets\n"
     ]
    },
    {
     "name": "stderr",
     "output_type": "stream",
     "text": [
      " 41%|█████████████████████████████                                          | 4100/10000 [19:33:09<24:51:16, 15.17s/it]"
     ]
    },
    {
     "name": "stdout",
     "output_type": "stream",
     "text": [
      "reward 1725.0, memory_length 2000, epsilon 0.034744542091201716 total_time 722.0\n"
     ]
    },
    {
     "name": "stderr",
     "output_type": "stream",
     "text": [
      " 42%|█████████████████████████████▊                                         | 4200/10000 [19:58:44<24:34:40, 15.26s/it]"
     ]
    },
    {
     "name": "stdout",
     "output_type": "stream",
     "text": [
      "reward 1751.0, memory_length 2000, epsilon 0.03261480868240579 total_time 733.0\n"
     ]
    },
    {
     "name": "stderr",
     "output_type": "stream",
     "text": [
      " 43%|██████████████████████████████▌                                        | 4300/10000 [20:24:21<24:23:01, 15.40s/it]"
     ]
    },
    {
     "name": "stdout",
     "output_type": "stream",
     "text": [
      "reward 1801.0, memory_length 2000, epsilon 0.030668378903793175 total_time 725.0\n"
     ]
    },
    {
     "name": "stderr",
     "output_type": "stream",
     "text": [
      " 44%|███████████████████████████████▏                                       | 4400/10000 [20:49:35<23:48:59, 15.31s/it]"
     ]
    },
    {
     "name": "stdout",
     "output_type": "stream",
     "text": [
      "reward 1755.0, memory_length 2000, epsilon 0.028889476029178546 total_time 736.0\n"
     ]
    },
    {
     "name": "stderr",
     "output_type": "stream",
     "text": [
      " 45%|███████████████████████████████▉                                       | 4499/10000 [21:15:03<23:34:12, 15.42s/it]"
     ]
    },
    {
     "name": "stdout",
     "output_type": "stream",
     "text": [
      "reward 1715.0, memory_length 2000, epsilon 0.027263681216499594 total_time 725.0\n",
      "Saving Model 4499\n",
      "INFO:tensorflow:Assets written to: Saved_Model\\assets\n"
     ]
    },
    {
     "name": "stderr",
     "output_type": "stream",
     "text": [
      " 46%|████████████████████████████████▋                                      | 4600/10000 [21:40:32<22:39:45, 15.11s/it]"
     ]
    },
    {
     "name": "stdout",
     "output_type": "stream",
     "text": [
      "reward 1679.0, memory_length 2000, epsilon 0.02577781663634012 total_time 730.0\n"
     ]
    },
    {
     "name": "stderr",
     "output_type": "stream",
     "text": [
      " 47%|█████████████████████████████████▎                                     | 4700/10000 [22:06:06<22:04:16, 14.99s/it]"
     ]
    },
    {
     "name": "stdout",
     "output_type": "stream",
     "text": [
      "reward 1570.0, memory_length 2000, epsilon 0.024419838659442427 total_time 722.0\n"
     ]
    },
    {
     "name": "stderr",
     "output_type": "stream",
     "text": [
      " 48%|██████████████████████████████████                                     | 4800/10000 [22:32:17<25:31:57, 17.68s/it]"
     ]
    },
    {
     "name": "stdout",
     "output_type": "stream",
     "text": [
      "reward 1479.0, memory_length 2000, epsilon 0.0231787402374441 total_time 723.0\n"
     ]
    },
    {
     "name": "stderr",
     "output_type": "stream",
     "text": [
      " 49%|██████████████████████████████████▊                                    | 4900/10000 [23:07:29<27:22:47, 19.33s/it]"
     ]
    },
    {
     "name": "stdout",
     "output_type": "stream",
     "text": [
      "reward 1989.0, memory_length 2000, epsilon 0.022044461685588913 total_time 722.0\n"
     ]
    },
    {
     "name": "stderr",
     "output_type": "stream",
     "text": [
      " 50%|███████████████████████████████████▍                                   | 4999/10000 [23:38:17<24:41:35, 17.78s/it]"
     ]
    },
    {
     "name": "stdout",
     "output_type": "stream",
     "text": [
      "reward 1766.0, memory_length 2000, epsilon 0.021007809144264172 total_time 728.0\n",
      "Saving Model 4999\n",
      "INFO:tensorflow:Assets written to: Saved_Model\\assets\n"
     ]
    },
    {
     "name": "stderr",
     "output_type": "stream",
     "text": [
      " 51%|████████████████████████████████████▏                                  | 5100/10000 [24:08:28<25:50:44, 18.99s/it]"
     ]
    },
    {
     "name": "stdout",
     "output_type": "stream",
     "text": [
      "reward 1726.0, memory_length 2000, epsilon 0.02006038005845681 total_time 726.0\n"
     ]
    },
    {
     "name": "stderr",
     "output_type": "stream",
     "text": [
      " 52%|████████████████████████████████████▉                                  | 5200/10000 [24:38:56<23:08:28, 17.36s/it]"
     ]
    },
    {
     "name": "stdout",
     "output_type": "stream",
     "text": [
      "reward 1710.0, memory_length 2000, epsilon 0.01919449507110446 total_time 725.0\n"
     ]
    },
    {
     "name": "stderr",
     "output_type": "stream",
     "text": [
      " 53%|█████████████████████████████████████▋                                 | 5300/10000 [25:12:47<31:14:10, 23.93s/it]"
     ]
    },
    {
     "name": "stdout",
     "output_type": "stream",
     "text": [
      "reward 1772.0, memory_length 2000, epsilon 0.01840313577830497 total_time 721.0\n"
     ]
    },
    {
     "name": "stderr",
     "output_type": "stream",
     "text": [
      " 54%|██████████████████████████████████████▎                                | 5400/10000 [26:02:02<34:55:18, 27.33s/it]"
     ]
    },
    {
     "name": "stdout",
     "output_type": "stream",
     "text": [
      "reward 1910.0, memory_length 2000, epsilon 0.017679887841861325 total_time 722.0\n"
     ]
    },
    {
     "name": "stderr",
     "output_type": "stream",
     "text": [
      " 55%|███████████████████████████████████████                                | 5499/10000 [26:53:38<36:14:58, 28.99s/it]"
     ]
    },
    {
     "name": "stdout",
     "output_type": "stream",
     "text": [
      "reward 1644.0, memory_length 2000, epsilon 0.017018888998062417 total_time 725.0\n",
      "Saving Model 5499\n",
      "INFO:tensorflow:Assets written to: Saved_Model\\assets\n"
     ]
    },
    {
     "name": "stderr",
     "output_type": "stream",
     "text": [
      " 56%|███████████████████████████████████████▊                               | 5600/10000 [27:41:36<37:09:35, 30.40s/it]"
     ]
    },
    {
     "name": "stdout",
     "output_type": "stream",
     "text": [
      "reward 1318.0, memory_length 2000, epsilon 0.01641478154128637 total_time 722.0\n"
     ]
    },
    {
     "name": "stderr",
     "output_type": "stream",
     "text": [
      " 57%|████████████████████████████████████████▍                              | 5700/10000 [28:27:06<30:56:53, 25.91s/it]"
     ]
    },
    {
     "name": "stdout",
     "output_type": "stream",
     "text": [
      "reward 1776.0, memory_length 2000, epsilon 0.01586266889728384 total_time 725.0\n"
     ]
    },
    {
     "name": "stderr",
     "output_type": "stream",
     "text": [
      " 58%|█████████████████████████████████████████▏                             | 5800/10000 [29:08:59<29:46:43, 25.52s/it]"
     ]
    },
    {
     "name": "stdout",
     "output_type": "stream",
     "text": [
      "reward 1626.0, memory_length 2000, epsilon 0.015358075934147387 total_time 726.0\n"
     ]
    },
    {
     "name": "stderr",
     "output_type": "stream",
     "text": [
      " 59%|█████████████████████████████████████████▉                             | 5900/10000 [29:51:28<26:15:22, 23.05s/it]"
     ]
    },
    {
     "name": "stdout",
     "output_type": "stream",
     "text": [
      "reward 1512.0, memory_length 2000, epsilon 0.014896912689268566 total_time 725.0\n"
     ]
    },
    {
     "name": "stderr",
     "output_type": "stream",
     "text": [
      " 60%|██████████████████████████████████████████▌                            | 5999/10000 [30:27:40<22:52:01, 20.58s/it]"
     ]
    },
    {
     "name": "stdout",
     "output_type": "stream",
     "text": [
      "reward 1958.0, memory_length 2000, epsilon 0.014475441218272938 total_time 725.0\n",
      "Saving Model 5999\n",
      "INFO:tensorflow:Assets written to: Saved_Model\\assets\n"
     ]
    },
    {
     "name": "stderr",
     "output_type": "stream",
     "text": [
      " 61%|███████████████████████████████████████████▎                           | 6100/10000 [31:05:27<23:40:43, 21.86s/it]"
     ]
    },
    {
     "name": "stdout",
     "output_type": "stream",
     "text": [
      "reward 1746.0, memory_length 2000, epsilon 0.014090245297227896 total_time 721.0\n"
     ]
    },
    {
     "name": "stderr",
     "output_type": "stream",
     "text": [
      " 62%|████████████████████████████████████████████                           | 6200/10000 [31:42:12<23:46:58, 22.53s/it]"
     ]
    },
    {
     "name": "stdout",
     "output_type": "stream",
     "text": [
      "reward 1648.0, memory_length 2000, epsilon 0.01373820273254556 total_time 724.0\n"
     ]
    },
    {
     "name": "stderr",
     "output_type": "stream",
     "text": [
      " 63%|████████████████████████████████████████████▋                          | 6300/10000 [32:33:03<33:38:02, 32.72s/it]"
     ]
    },
    {
     "name": "stdout",
     "output_type": "stream",
     "text": [
      "reward 1703.0, memory_length 2000, epsilon 0.013416460054139503 total_time 727.0\n"
     ]
    },
    {
     "name": "stderr",
     "output_type": "stream",
     "text": [
      " 64%|█████████████████████████████████████████████▍                         | 6400/10000 [33:15:04<21:40:02, 21.67s/it]"
     ]
    },
    {
     "name": "stdout",
     "output_type": "stream",
     "text": [
      "reward 2036.0, memory_length 2000, epsilon 0.013122409386711522 total_time 725.0\n"
     ]
    },
    {
     "name": "stderr",
     "output_type": "stream",
     "text": [
      " 65%|██████████████████████████████████████████████▏                        | 6499/10000 [33:46:18<16:47:05, 17.26s/it]"
     ]
    },
    {
     "name": "stdout",
     "output_type": "stream",
     "text": [
      "reward 1675.0, memory_length 2000, epsilon 0.01285366731169927 total_time 723.0\n",
      "Saving Model 6499\n",
      "INFO:tensorflow:Assets written to: Saved_Model\\assets\n"
     ]
    },
    {
     "name": "stderr",
     "output_type": "stream",
     "text": [
      " 66%|██████████████████████████████████████████████▊                        | 6600/10000 [34:19:02<15:52:39, 16.81s/it]"
     ]
    },
    {
     "name": "stdout",
     "output_type": "stream",
     "text": [
      "reward 1851.0, memory_length 2000, epsilon 0.012608055548551074 total_time 728.0\n"
     ]
    },
    {
     "name": "stderr",
     "output_type": "stream",
     "text": [
      " 67%|███████████████████████████████████████████████▌                       | 6700/10000 [34:50:19<16:55:22, 18.46s/it]"
     ]
    },
    {
     "name": "stdout",
     "output_type": "stream",
     "text": [
      "reward 1879.0, memory_length 2000, epsilon 0.012383583298740487 total_time 726.0\n"
     ]
    },
    {
     "name": "stderr",
     "output_type": "stream",
     "text": [
      " 68%|████████████████████████████████████████████████▎                      | 6800/10000 [35:24:41<13:44:01, 15.45s/it]"
     ]
    },
    {
     "name": "stdout",
     "output_type": "stream",
     "text": [
      "reward 1919.0, memory_length 2000, epsilon 0.012178431109410597 total_time 725.0\n"
     ]
    },
    {
     "name": "stderr",
     "output_type": "stream",
     "text": [
      " 69%|████████████████████████████████████████████████▉                      | 6900/10000 [35:50:53<13:27:41, 15.63s/it]"
     ]
    },
    {
     "name": "stdout",
     "output_type": "stream",
     "text": [
      "reward 1636.0, memory_length 2000, epsilon 0.011990936125855344 total_time 721.0\n"
     ]
    },
    {
     "name": "stderr",
     "output_type": "stream",
     "text": [
      " 70%|█████████████████████████████████████████████████▋                     | 6999/10000 [36:16:19<12:35:47, 15.11s/it]"
     ]
    },
    {
     "name": "stdout",
     "output_type": "stream",
     "text": [
      "reward 1751.0, memory_length 2000, epsilon 0.011819578613302281 total_time 721.0\n",
      "Saving Model 6999\n",
      "INFO:tensorflow:Assets written to: Saved_Model\\assets\n"
     ]
    },
    {
     "name": "stderr",
     "output_type": "stream",
     "text": [
      " 71%|██████████████████████████████████████████████████▍                    | 7100/10000 [36:42:26<12:36:46, 15.66s/it]"
     ]
    },
    {
     "name": "stdout",
     "output_type": "stream",
     "text": [
      "reward 1652.0, memory_length 2000, epsilon 0.011662969638749531 total_time 730.0\n"
     ]
    },
    {
     "name": "stderr",
     "output_type": "stream",
     "text": [
      " 72%|███████████████████████████████████████████████████                    | 7200/10000 [37:08:17<12:01:39, 15.46s/it]"
     ]
    },
    {
     "name": "stdout",
     "output_type": "stream",
     "text": [
      "reward 1882.0, memory_length 2000, epsilon 0.011519839813012425 total_time 724.0\n"
     ]
    },
    {
     "name": "stderr",
     "output_type": "stream",
     "text": [
      " 73%|███████████████████████████████████████████████████▊                   | 7300/10000 [37:34:07<11:42:32, 15.61s/it]"
     ]
    },
    {
     "name": "stdout",
     "output_type": "stream",
     "text": [
      "reward 1541.0, memory_length 2000, epsilon 0.011389029001728848 total_time 721.0\n"
     ]
    },
    {
     "name": "stderr",
     "output_type": "stream",
     "text": [
      " 74%|████████████████████████████████████████████████████▌                  | 7400/10000 [37:59:40<10:45:21, 14.89s/it]"
     ]
    },
    {
     "name": "stdout",
     "output_type": "stream",
     "text": [
      "reward 1734.0, memory_length 2000, epsilon 0.011269476921926157 total_time 729.0\n"
     ]
    },
    {
     "name": "stderr",
     "output_type": "stream",
     "text": [
      " 75%|█████████████████████████████████████████████████████▏                 | 7499/10000 [38:24:45<10:33:25, 15.20s/it]"
     ]
    },
    {
     "name": "stdout",
     "output_type": "stream",
     "text": [
      "reward 1848.0, memory_length 2000, epsilon 0.011160214547930444 total_time 723.0\n",
      "Saving Model 7499\n",
      "INFO:tensorflow:Assets written to: Saved_Model\\assets\n"
     ]
    },
    {
     "name": "stderr",
     "output_type": "stream",
     "text": [
      " 76%|█████████████████████████████████████████████████████▉                 | 7600/10000 [38:50:19<10:30:13, 15.76s/it]"
     ]
    },
    {
     "name": "stdout",
     "output_type": "stream",
     "text": [
      "reward 1698.0, memory_length 2000, epsilon 0.011060356256958991 total_time 727.0\n"
     ]
    },
    {
     "name": "stderr",
     "output_type": "stream",
     "text": [
      " 77%|███████████████████████████████████████████████████████▍                | 7700/10000 [39:15:32<9:14:27, 14.46s/it]"
     ]
    },
    {
     "name": "stdout",
     "output_type": "stream",
     "text": [
      "reward 1684.0, memory_length 2000, epsilon 0.010969092650732294 total_time 725.0\n"
     ]
    },
    {
     "name": "stderr",
     "output_type": "stream",
     "text": [
      " 78%|███████████████████████████████████████████████████████▍               | 7800/10000 [39:40:49<10:39:18, 17.44s/it]"
     ]
    },
    {
     "name": "stdout",
     "output_type": "stream",
     "text": [
      "reward 1412.0, memory_length 2000, epsilon 0.010885683994921402 total_time 721.0\n"
     ]
    },
    {
     "name": "stderr",
     "output_type": "stream",
     "text": [
      " 79%|████████████████████████████████████████████████████████               | 7900/10000 [40:18:19<13:00:16, 22.29s/it]"
     ]
    },
    {
     "name": "stdout",
     "output_type": "stream",
     "text": [
      "reward 1649.0, memory_length 2000, epsilon 0.010809454223254274 total_time 722.0\n"
     ]
    },
    {
     "name": "stderr",
     "output_type": "stream",
     "text": [
      " 80%|████████████████████████████████████████████████████████▊              | 7999/10000 [40:56:12<12:44:06, 22.91s/it]"
     ]
    },
    {
     "name": "stdout",
     "output_type": "stream",
     "text": [
      "reward 1792.0, memory_length 2000, epsilon 0.01073978545768158 total_time 729.0\n",
      "Saving Model 7999\n",
      "INFO:tensorflow:Assets written to: Saved_Model\\assets\n"
     ]
    },
    {
     "name": "stderr",
     "output_type": "stream",
     "text": [
      " 81%|█████████████████████████████████████████████████████████▌             | 8100/10000 [41:33:36<12:35:27, 23.86s/it]"
     ]
    },
    {
     "name": "stdout",
     "output_type": "stream",
     "text": [
      "reward 1831.0, memory_length 2000, epsilon 0.010676113000185344 total_time 721.0\n"
     ]
    },
    {
     "name": "stderr",
     "output_type": "stream",
     "text": [
      " 82%|██████████████████████████████████████████████████████████▏            | 8200/10000 [42:10:55<12:23:37, 24.79s/it]"
     ]
    },
    {
     "name": "stdout",
     "output_type": "stream",
     "text": [
      "reward 1843.0, memory_length 2000, epsilon 0.010617920755636678 total_time 723.0\n"
     ]
    },
    {
     "name": "stderr",
     "output_type": "stream",
     "text": [
      " 83%|██████████████████████████████████████████████████████████▉            | 8300/10000 [42:47:18<10:18:25, 21.83s/it]"
     ]
    },
    {
     "name": "stdout",
     "output_type": "stream",
     "text": [
      "reward 1449.0, memory_length 2000, epsilon 0.010564737048602722 total_time 726.0\n"
     ]
    },
    {
     "name": "stderr",
     "output_type": "stream",
     "text": [
      " 84%|███████████████████████████████████████████████████████████▋           | 8400/10000 [43:24:07<10:26:08, 23.48s/it]"
     ]
    },
    {
     "name": "stdout",
     "output_type": "stream",
     "text": [
      "reward 1494.0, memory_length 2000, epsilon 0.01051613080019606 total_time 726.0\n"
     ]
    },
    {
     "name": "stderr",
     "output_type": "stream",
     "text": [
      " 85%|█████████████████████████████████████████████████████████████▏          | 8499/10000 [44:01:50<9:56:04, 23.83s/it]"
     ]
    },
    {
     "name": "stdout",
     "output_type": "stream",
     "text": [
      "reward 1778.0, memory_length 2000, epsilon 0.010471708033978174 total_time 725.0\n",
      "Saving Model 8499\n",
      "INFO:tensorflow:Assets written to: Saved_Model\\assets\n"
     ]
    },
    {
     "name": "stderr",
     "output_type": "stream",
     "text": [
      " 86%|█████████████████████████████████████████████████████████████▉          | 8600/10000 [44:36:59<9:01:36, 23.21s/it]"
     ]
    },
    {
     "name": "stdout",
     "output_type": "stream",
     "text": [
      "reward 1625.0, memory_length 2000, epsilon 0.010431108682595632 total_time 727.0\n"
     ]
    },
    {
     "name": "stderr",
     "output_type": "stream",
     "text": [
      " 87%|██████████████████████████████████████████████████████████████▋         | 8700/10000 [45:13:23<5:28:04, 15.14s/it]"
     ]
    },
    {
     "name": "stdout",
     "output_type": "stream",
     "text": [
      "reward 1631.0, memory_length 2000, epsilon 0.010394003669265345 total_time 722.0\n"
     ]
    },
    {
     "name": "stderr",
     "output_type": "stream",
     "text": [
      " 88%|███████████████████████████████████████████████████████████████▎        | 8800/10000 [45:38:50<5:05:06, 15.26s/it]"
     ]
    },
    {
     "name": "stdout",
     "output_type": "stream",
     "text": [
      "reward 1861.0, memory_length 2000, epsilon 0.01036009224045289 total_time 721.0\n"
     ]
    },
    {
     "name": "stderr",
     "output_type": "stream",
     "text": [
      " 89%|████████████████████████████████████████████████████████████████        | 8900/10000 [46:04:21<4:33:46, 14.93s/it]"
     ]
    },
    {
     "name": "stdout",
     "output_type": "stream",
     "text": [
      "reward 1665.0, memory_length 2000, epsilon 0.01032909952812408 total_time 735.0\n"
     ]
    },
    {
     "name": "stderr",
     "output_type": "stream",
     "text": [
      " 90%|███████████████████████████████████████████████████████████████▉       | 8999/10000 [46:40:26<10:30:56, 37.82s/it]"
     ]
    },
    {
     "name": "stdout",
     "output_type": "stream",
     "text": [
      "reward 1652.0, memory_length 2000, epsilon 0.010300774321810643 total_time 725.0\n",
      "Saving Model 8999\n",
      "INFO:tensorflow:Assets written to: Saved_Model\\assets\n"
     ]
    },
    {
     "name": "stderr",
     "output_type": "stream",
     "text": [
      " 91%|█████████████████████████████████████████████████████████████████▌      | 9100/10000 [47:20:01<8:53:02, 35.54s/it]"
     ]
    },
    {
     "name": "stdout",
     "output_type": "stream",
     "text": [
      "reward 1510.0, memory_length 2000, epsilon 0.01027488703243155 total_time 723.0\n"
     ]
    },
    {
     "name": "stderr",
     "output_type": "stream",
     "text": [
      " 92%|██████████████████████████████████████████████████████████████████▏     | 9200/10000 [48:08:46<6:05:19, 27.40s/it]"
     ]
    },
    {
     "name": "stdout",
     "output_type": "stream",
     "text": [
      "reward 1564.0, memory_length 2000, epsilon 0.010251227831365858 total_time 723.0\n"
     ]
    },
    {
     "name": "stderr",
     "output_type": "stream",
     "text": [
      " 93%|██████████████████████████████████████████████████████████████████▉     | 9300/10000 [48:42:58<3:13:04, 16.55s/it]"
     ]
    },
    {
     "name": "stdout",
     "output_type": "stream",
     "text": [
      "reward 1626.0, memory_length 2000, epsilon 0.010229604949693319 total_time 725.0\n"
     ]
    },
    {
     "name": "stderr",
     "output_type": "stream",
     "text": [
      " 94%|███████████████████████████████████████████████████████████████████▋    | 9400/10000 [49:10:43<3:03:35, 18.36s/it]"
     ]
    },
    {
     "name": "stdout",
     "output_type": "stream",
     "text": [
      "reward 1738.0, memory_length 2000, epsilon 0.010209843123817355 total_time 722.0\n"
     ]
    },
    {
     "name": "stderr",
     "output_type": "stream",
     "text": [
      " 95%|████████████████████████████████████████████████████████████████████▍   | 9499/10000 [49:43:44<3:24:41, 24.51s/it]"
     ]
    },
    {
     "name": "stdout",
     "output_type": "stream",
     "text": [
      "reward 1710.0, memory_length 2000, epsilon 0.010191782174871412 total_time 723.0\n",
      "Saving Model 9499\n",
      "INFO:tensorflow:Assets written to: Saved_Model\\assets\n"
     ]
    },
    {
     "name": "stderr",
     "output_type": "stream",
     "text": [
      " 96%|█████████████████████████████████████████████████████████████████████   | 9600/10000 [50:24:46<2:33:36, 23.04s/it]"
     ]
    },
    {
     "name": "stdout",
     "output_type": "stream",
     "text": [
      "reward 1665.0, memory_length 2000, epsilon 0.010175275710394125 total_time 723.0\n"
     ]
    },
    {
     "name": "stderr",
     "output_type": "stream",
     "text": [
      " 97%|█████████████████████████████████████████████████████████████████████▊  | 9700/10000 [51:09:27<1:56:42, 23.34s/it]"
     ]
    },
    {
     "name": "stdout",
     "output_type": "stream",
     "text": [
      "reward 1692.0, memory_length 2000, epsilon 0.010160189937749758 total_time 721.0\n"
     ]
    },
    {
     "name": "stderr",
     "output_type": "stream",
     "text": [
      " 98%|████████████████████████████████████████████████████████████████████████▌ | 9800/10000 [51:40:49<59:19, 17.80s/it]"
     ]
    },
    {
     "name": "stdout",
     "output_type": "stream",
     "text": [
      "reward 1548.0, memory_length 2000, epsilon 0.010146402579676162 total_time 725.0\n"
     ]
    },
    {
     "name": "stderr",
     "output_type": "stream",
     "text": [
      " 99%|█████████████████████████████████████████████████████████████████████████▎| 9900/10000 [52:09:38<28:33, 17.13s/it]"
     ]
    },
    {
     "name": "stdout",
     "output_type": "stream",
     "text": [
      "reward 1703.0, memory_length 2000, epsilon 0.0101338018831702 total_time 722.0\n"
     ]
    },
    {
     "name": "stderr",
     "output_type": "stream",
     "text": [
      "100%|█████████████████████████████████████████████████████████████████████████▉| 9999/10000 [52:37:21<00:17, 17.43s/it]"
     ]
    },
    {
     "name": "stdout",
     "output_type": "stream",
     "text": [
      "reward 1710.0, memory_length 2000, epsilon 0.010122285713677263 total_time 724.0\n",
      "Saving Model 9999\n",
      "INFO:tensorflow:Assets written to: Saved_Model\\assets\n"
     ]
    },
    {
     "name": "stderr",
     "output_type": "stream",
     "text": [
      "100%|█████████████████████████████████████████████████████████████████████████| 10000/10000 [52:37:39<00:00, 18.95s/it]"
     ]
    },
    {
     "name": "stdout",
     "output_type": "stream",
     "text": [
      "189459.5355606079\n"
     ]
    },
    {
     "name": "stderr",
     "output_type": "stream",
     "text": [
      "\n"
     ]
    }
   ],
   "source": [
    "score_tracked = []\n",
    "start_time = time.time()\n",
    "\n",
    "for episode in tqdm(range(Episodes)):\n",
    "\n",
    "    # Write code here\n",
    "    \n",
    "    score = 0\n",
    "\n",
    "    total_time_driven = 0\n",
    "    terminal_state = False\n",
    "    \n",
    "    while terminal_state != True:\n",
    "\n",
    "        # Write your code here\n",
    "        # 1. Pick epsilon-greedy action from possible actions for the current state\n",
    "        possible_actions_indices, actions = env.requests(state)\n",
    "        \n",
    "        action_index = agent.get_action(state, episode, possible_actions_indices, actions)\n",
    "        \n",
    "        action = env.action_space[action_index]\n",
    "        \n",
    "        # 2. Evaluate your reward and next state\n",
    "        next_state, reward, time_taken_for_curr_action = env.step(state, action, Time_matrix)\n",
    "        total_time_driven += time_taken_for_curr_action\n",
    "        terminal_state = (total_time_driven > per_episode_time)\n",
    "        \n",
    "        if terminal_state != True:\n",
    "            # 3. Append the experience to the memory\n",
    "            agent.append_sample(state, action_index, reward, next_state, terminal_state)\n",
    "\n",
    "            # 4. Train the model by calling function agent.train_model\n",
    "            agent.train_model()\n",
    "\n",
    "            # 5. Keep a track of rewards, Q-values, loss\n",
    "            score += reward\n",
    "            state = next_state        \n",
    "\n",
    "    rewards_per_episode.append(score)\n",
    "    episodes.append(episode)        \n",
    "        \n",
    "    # every 100 episodes:\n",
    "    if ((episode + 1) % 100 == 0):\n",
    "        print(\"reward {0}, memory_length {1}, epsilon {2} total_time {3}\".format(score, len(agent.memory), \n",
    "                                                                                 agent.epsilon, total_time_driven))\n",
    "    # Every 5 episodes, Save the Q_value of the state, action pair we are tracking\n",
    "    if ((episode + 1) % 5 == 0):\n",
    "        agent.save_tracking_states()\n",
    "\n",
    "    # Total rewards per episode\n",
    "    score_tracked.append(score)\n",
    "\n",
    "    if((episode + 1) % 500 == 0):\n",
    "        print(\"Saving Model {}\".format(episode))\n",
    "        agent.save(\"Saved_Model\")\n",
    "        \n",
    "elapsed_time = time.time() - start_time\n",
    "print(elapsed_time)"
   ]
  },
  {
   "cell_type": "markdown",
   "metadata": {},
   "source": [
    "### Saving the model using TF's saved model format"
   ]
  },
  {
   "cell_type": "code",
   "execution_count": 8,
   "metadata": {},
   "outputs": [
    {
     "name": "stdout",
     "output_type": "stream",
     "text": [
      "INFO:tensorflow:Assets written to: Saved_Model\\assets\n"
     ]
    }
   ],
   "source": [
    "agent.save(\"Saved_Model\")"
   ]
  },
  {
   "cell_type": "markdown",
   "metadata": {},
   "source": [
    "### Saving the states_tracked as pickle file"
   ]
  },
  {
   "cell_type": "code",
   "execution_count": 9,
   "metadata": {},
   "outputs": [],
   "source": [
    "save_obj(agent.states_tracked,\"model_pkl\")"
   ]
  },
  {
   "cell_type": "code",
   "execution_count": 10,
   "metadata": {},
   "outputs": [
    {
     "data": {
      "text/plain": [
       "[180.23051,\n",
       " 116.69024,\n",
       " 151.34106,\n",
       " 233.78166,\n",
       " 334.4411,\n",
       " 442.7301,\n",
       " 2575.1978,\n",
       " 381.0759,\n",
       " 253.33376,\n",
       " 306.4005,\n",
       " 353.72098,\n",
       " 319.64246,\n",
       " 403.1417,\n",
       " 354.96442,\n",
       " 381.1034,\n",
       " 464.3209,\n",
       " 381.08167,\n",
       " 380.78943,\n",
       " 440.0802,\n",
       " 344.85556,\n",
       " 361.0659,\n",
       " 394.28775,\n",
       " 403.03177,\n",
       " 236.13618,\n",
       " 341.88278,\n",
       " 283.32874,\n",
       " 275.02353,\n",
       " 288.13617,\n",
       " 285.73898,\n",
       " 356.5816,\n",
       " 314.87878,\n",
       " 360.40585,\n",
       " 427.51736,\n",
       " 464.66208,\n",
       " 413.6306,\n",
       " 457.65402,\n",
       " 454.01297,\n",
       " 477.37604,\n",
       " 411.35236,\n",
       " 422.16205,\n",
       " 491.947,\n",
       " 458.74942,\n",
       " 484.2343,\n",
       " 438.1934,\n",
       " 465.4199,\n",
       " 543.3287,\n",
       " 472.94208,\n",
       " 560.86884,\n",
       " 751.7183,\n",
       " 620.5004,\n",
       " 486.01572,\n",
       " 527.04803,\n",
       " 575.4489,\n",
       " 544.04877,\n",
       " 507.93823,\n",
       " 555.1259,\n",
       " 511.05914,\n",
       " 503.84387,\n",
       " 468.95596,\n",
       " 455.13855,\n",
       " 546.58777,\n",
       " 496.46368,\n",
       " 490.44727,\n",
       " 470.29742,\n",
       " 507.69308,\n",
       " 502.10916,\n",
       " 539.40204,\n",
       " 502.40146,\n",
       " 507.31924,\n",
       " 496.8776,\n",
       " 513.81903,\n",
       " 526.21136,\n",
       " 512.1706,\n",
       " 454.48236,\n",
       " 506.48056,\n",
       " 550.3172,\n",
       " 566.95404,\n",
       " 543.2017,\n",
       " 529.70856,\n",
       " 542.35187,\n",
       " 564.40564,\n",
       " 544.3079,\n",
       " 523.5316,\n",
       " 523.3572,\n",
       " 537.69025,\n",
       " 542.112,\n",
       " 553.8348,\n",
       " 544.3852,\n",
       " 528.5982,\n",
       " 563.59186,\n",
       " 596.0877,\n",
       " 527.84454,\n",
       " 550.6814,\n",
       " 544.7109,\n",
       " 542.2918,\n",
       " 531.2874,\n",
       " 512.9242,\n",
       " 538.31934,\n",
       " 523.31244,\n",
       " 519.94794,\n",
       " 529.9884,\n",
       " 534.6711,\n",
       " 526.3349,\n",
       " 506.53958,\n",
       " 529.3706,\n",
       " 528.2794,\n",
       " 544.76746,\n",
       " 550.2981,\n",
       " 541.1646,\n",
       " 519.90924,\n",
       " 549.8124,\n",
       " 525.6213,\n",
       " 522.3091,\n",
       " 506.9173,\n",
       " 529.7611,\n",
       " 560.8457,\n",
       " 513.2072,\n",
       " 533.89545,\n",
       " 527.7459,\n",
       " 527.0065,\n",
       " 526.88635,\n",
       " 523.31177,\n",
       " 523.4383,\n",
       " 564.1964,\n",
       " 525.90533,\n",
       " 500.73126,\n",
       " 474.2897,\n",
       " 490.7491,\n",
       " 529.33026,\n",
       " 513.8199,\n",
       " 542.07996,\n",
       " 528.40594,\n",
       " 538.462,\n",
       " 521.5743,\n",
       " 517.9335,\n",
       " 517.56683,\n",
       " 516.7106,\n",
       " 536.59686,\n",
       " 553.353,\n",
       " 533.3954,\n",
       " 551.53436,\n",
       " 541.55347,\n",
       " 546.1482,\n",
       " 524.448,\n",
       " 522.0995,\n",
       " 491.7497,\n",
       " 515.8752,\n",
       " 543.97174,\n",
       " 526.6499,\n",
       " 501.74335,\n",
       " 506.9093,\n",
       " 529.1371,\n",
       " 514.8705,\n",
       " 483.9788,\n",
       " 503.87067,\n",
       " 625.20905,\n",
       " 546.97125,\n",
       " 553.16815,\n",
       " 549.51666,\n",
       " 524.1011,\n",
       " 574.9137,\n",
       " 573.23145,\n",
       " 566.2731,\n",
       " 587.3969,\n",
       " 587.5208,\n",
       " 573.4021,\n",
       " 621.83594,\n",
       " 621.7841,\n",
       " 609.9953,\n",
       " 589.52496,\n",
       " 582.2684,\n",
       " 551.7753,\n",
       " 561.59784,\n",
       " 542.7171,\n",
       " 600.98126,\n",
       " 592.71875,\n",
       " 561.553,\n",
       " 543.5007,\n",
       " 565.25995,\n",
       " 528.17316,\n",
       " 556.1436,\n",
       " 530.4501,\n",
       " 570.4541,\n",
       " 569.68304,\n",
       " 538.3966,\n",
       " 559.7358,\n",
       " 579.4282,\n",
       " 606.6501,\n",
       " 593.868,\n",
       " 580.7128,\n",
       " 598.0355,\n",
       " 583.45276,\n",
       " 580.1429,\n",
       " 572.2837,\n",
       " 590.9693,\n",
       " 629.3072,\n",
       " 592.934,\n",
       " 600.8423,\n",
       " 593.01697,\n",
       " 600.5385,\n",
       " 574.7527,\n",
       " 606.52356,\n",
       " 635.61,\n",
       " 601.8989,\n",
       " 591.9127,\n",
       " 587.55505,\n",
       " 580.3197,\n",
       " 546.7276,\n",
       " 591.2585,\n",
       " 562.23706,\n",
       " 588.4247,\n",
       " 573.5406,\n",
       " 608.983,\n",
       " 565.1743,\n",
       " 552.3364,\n",
       " 590.0778,\n",
       " 586.4445,\n",
       " 572.3808,\n",
       " 575.841,\n",
       " 641.76654,\n",
       " 580.46515,\n",
       " 547.11566,\n",
       " 580.59015,\n",
       " 543.7226,\n",
       " 562.59546,\n",
       " 568.3386,\n",
       " 555.21545,\n",
       " 575.5129,\n",
       " 545.4311,\n",
       " 583.815,\n",
       " 593.2942,\n",
       " 554.35913,\n",
       " 555.4719,\n",
       " 570.7544,\n",
       " 576.5271,\n",
       " 547.40784,\n",
       " 565.5773,\n",
       " 594.1656,\n",
       " 573.9912,\n",
       " 574.55334,\n",
       " 583.84296,\n",
       " 574.935,\n",
       " 578.72,\n",
       " 589.4419,\n",
       " 614.35547,\n",
       " 585.6286,\n",
       " 590.3712,\n",
       " 610.5823,\n",
       " 590.96277,\n",
       " 608.09863,\n",
       " 587.344,\n",
       " 601.3909,\n",
       " 613.8693,\n",
       " 574.32965,\n",
       " 564.7185,\n",
       " 566.0849,\n",
       " 609.96606,\n",
       " 572.6304,\n",
       " 586.6141,\n",
       " 603.50183,\n",
       " 548.4481,\n",
       " 569.4794,\n",
       " 600.80255,\n",
       " 573.15814,\n",
       " 594.36835,\n",
       " 594.0355,\n",
       " 580.47754,\n",
       " 589.2186,\n",
       " 601.08276,\n",
       " 573.279,\n",
       " 587.82947,\n",
       " 598.6719,\n",
       " 559.3907,\n",
       " 595.6136,\n",
       " 601.446,\n",
       " 593.75366,\n",
       " 576.15393,\n",
       " 573.76263,\n",
       " 604.83655,\n",
       " 584.5774,\n",
       " 584.29584,\n",
       " 583.52686,\n",
       " 607.01624,\n",
       " 585.374,\n",
       " 597.3731,\n",
       " 571.6253,\n",
       " 561.41235,\n",
       " 552.8816,\n",
       " 584.2203,\n",
       " 574.1018,\n",
       " 565.2577,\n",
       " 590.2705,\n",
       " 599.657,\n",
       " 567.67,\n",
       " 607.76154,\n",
       " 603.76105,\n",
       " 585.17664,\n",
       " 568.54535,\n",
       " 585.6351,\n",
       " 569.7841,\n",
       " 581.64886,\n",
       " 613.7879,\n",
       " 589.6293,\n",
       " 603.98364,\n",
       " 563.64935,\n",
       " 592.57666,\n",
       " 559.8191,\n",
       " 556.12634,\n",
       " 585.01337,\n",
       " 591.1363,\n",
       " 602.11,\n",
       " 594.67236,\n",
       " 595.9212,\n",
       " 597.71344,\n",
       " 585.35657,\n",
       " 558.13885,\n",
       " 592.19476,\n",
       " 591.0551,\n",
       " 547.15936,\n",
       " 556.74994,\n",
       " 574.01544,\n",
       " 580.23773,\n",
       " 594.786,\n",
       " 585.6836,\n",
       " 596.6776,\n",
       " 610.26605,\n",
       " 580.90643,\n",
       " 567.82965,\n",
       " 594.3578,\n",
       " 561.5814,\n",
       " 588.17126,\n",
       " 605.06323,\n",
       " 581.6584,\n",
       " 584.92615,\n",
       " 582.23694,\n",
       " 565.58813,\n",
       " 573.6146,\n",
       " 574.27985,\n",
       " 569.45087,\n",
       " 568.7402,\n",
       " 611.9206,\n",
       " 584.8282,\n",
       " 591.84827,\n",
       " 552.12335,\n",
       " 595.0507,\n",
       " 581.09625,\n",
       " 575.5384,\n",
       " 612.2703,\n",
       " 590.9597,\n",
       " 573.137,\n",
       " 558.5911,\n",
       " 570.5242,\n",
       " 561.84534,\n",
       " 563.0881,\n",
       " 583.3018,\n",
       " 579.3533,\n",
       " 572.9575,\n",
       " 566.60156,\n",
       " 566.9612,\n",
       " 556.591,\n",
       " 549.8275,\n",
       " 556.37646,\n",
       " 544.5056,\n",
       " 599.30145,\n",
       " 589.6361,\n",
       " 571.88403,\n",
       " 578.30554,\n",
       " 577.8503,\n",
       " 568.5927,\n",
       " 545.98,\n",
       " 575.09393,\n",
       " 619.3257,\n",
       " 595.90326,\n",
       " 583.9315,\n",
       " 595.6752,\n",
       " 578.1102,\n",
       " 589.41,\n",
       " 562.9328,\n",
       " 577.292,\n",
       " 574.90546,\n",
       " 585.4343,\n",
       " 543.09937,\n",
       " 583.1367,\n",
       " 571.1892,\n",
       " 578.8728,\n",
       " 578.1489,\n",
       " 572.5748,\n",
       " 568.13916,\n",
       " 601.3923,\n",
       " 602.3613,\n",
       " 591.728,\n",
       " 592.44305,\n",
       " 580.32715,\n",
       " 564.926,\n",
       " 603.4488,\n",
       " 596.5965,\n",
       " 599.6506,\n",
       " 586.37006,\n",
       " 593.2064,\n",
       " 604.83936,\n",
       " 586.0351,\n",
       " 594.96155,\n",
       " 575.89185,\n",
       " 607.3655,\n",
       " 568.5214,\n",
       " 575.33093,\n",
       " 572.5319,\n",
       " 571.1244,\n",
       " 577.39655,\n",
       " 561.33246,\n",
       " 564.4489,\n",
       " 553.8004,\n",
       " 576.572,\n",
       " 573.1474,\n",
       " 544.4889,\n",
       " 590.20953,\n",
       " 591.37964,\n",
       " 579.4076,\n",
       " 560.5893,\n",
       " 554.8206,\n",
       " 581.79987,\n",
       " 568.77936,\n",
       " 569.85394,\n",
       " 566.66785,\n",
       " 551.95996,\n",
       " 599.81177,\n",
       " 568.2087,\n",
       " 568.9746,\n",
       " 559.9785,\n",
       " 597.8792,\n",
       " 572.99817,\n",
       " 573.8321,\n",
       " 556.4568,\n",
       " 576.2056,\n",
       " 557.45685,\n",
       " 574.25964,\n",
       " 555.7763,\n",
       " 552.52167,\n",
       " 585.1048,\n",
       " 577.06104,\n",
       " 596.1568,\n",
       " 591.3173,\n",
       " 549.52563,\n",
       " 572.06256,\n",
       " 604.05676,\n",
       " 584.66345,\n",
       " 591.90125,\n",
       " 579.44855,\n",
       " 586.0016,\n",
       " 549.76184,\n",
       " 555.7261,\n",
       " 575.7246,\n",
       " 587.9437,\n",
       " 553.417,\n",
       " 553.26355,\n",
       " 562.07086,\n",
       " 563.5562,\n",
       " 569.9378,\n",
       " 597.20966,\n",
       " 554.1446,\n",
       " 571.0956,\n",
       " 564.6022,\n",
       " 558.5271,\n",
       " 584.3474,\n",
       " 565.15314,\n",
       " 568.468,\n",
       " 555.66583,\n",
       " 560.4218,\n",
       " 573.3762,\n",
       " 583.58636,\n",
       " 597.8075,\n",
       " 563.4165,\n",
       " 572.2141,\n",
       " 586.61664,\n",
       " 552.6383,\n",
       " 574.67163,\n",
       " 568.71277,\n",
       " 570.08844,\n",
       " 578.45264,\n",
       " 605.73914,\n",
       " 588.9985,\n",
       " 581.8108,\n",
       " 586.16034,\n",
       " 580.1748,\n",
       " 570.5178,\n",
       " 587.4324,\n",
       " 617.52216,\n",
       " 606.8651,\n",
       " 600.26843,\n",
       " 590.35004,\n",
       " 584.40234,\n",
       " 563.3307,\n",
       " 578.3887,\n",
       " 602.1836,\n",
       " 580.87006,\n",
       " 579.39685,\n",
       " 592.71466,\n",
       " 583.76227,\n",
       " 576.6426,\n",
       " 590.467,\n",
       " 572.4988,\n",
       " 570.93756,\n",
       " 600.8439,\n",
       " 614.07135,\n",
       " 589.541,\n",
       " 628.85767,\n",
       " 600.4002,\n",
       " 573.2293,\n",
       " 588.23486,\n",
       " 577.47266,\n",
       " 591.748,\n",
       " 577.3846,\n",
       " 569.55115,\n",
       " 602.2508,\n",
       " 597.3651,\n",
       " 590.10864,\n",
       " 593.3462,\n",
       " 576.0085,\n",
       " 558.58014,\n",
       " 587.06226,\n",
       " 569.009,\n",
       " 581.49084,\n",
       " 585.77856,\n",
       " 594.0815,\n",
       " 566.1602,\n",
       " 575.82574,\n",
       " 573.8552,\n",
       " 578.38495,\n",
       " 559.67285,\n",
       " 601.4642,\n",
       " 612.77655,\n",
       " 595.8554,\n",
       " 581.623,\n",
       " 588.17126,\n",
       " 586.41016,\n",
       " 574.13635,\n",
       " 565.1683,\n",
       " 583.84686,\n",
       " 575.3582,\n",
       " 555.5122,\n",
       " 570.08026,\n",
       " 571.42706,\n",
       " 592.8193,\n",
       " 590.13727,\n",
       " 620.6867,\n",
       " 609.93164,\n",
       " 618.7154,\n",
       " 610.293,\n",
       " 615.2155,\n",
       " 622.571,\n",
       " 593.3606,\n",
       " 601.4594,\n",
       " 581.92175,\n",
       " 598.0263,\n",
       " 565.9866,\n",
       " 608.05536,\n",
       " 594.797,\n",
       " 584.41296,\n",
       " 604.74286,\n",
       " 580.64923,\n",
       " 581.5009,\n",
       " 611.0147,\n",
       " 590.0762,\n",
       " 595.3052,\n",
       " 594.38837,\n",
       " 578.72003,\n",
       " 585.7313,\n",
       " 591.85736,\n",
       " 574.9975,\n",
       " 574.01373,\n",
       " 574.1963,\n",
       " 575.9465,\n",
       " 587.3554,\n",
       " 573.11304,\n",
       " 602.00134,\n",
       " 560.8986,\n",
       " 606.745,\n",
       " 588.3849,\n",
       " 567.4217,\n",
       " 574.7657,\n",
       " 589.7366,\n",
       " 587.5782,\n",
       " 578.6751,\n",
       " 585.1778,\n",
       " 596.8407,\n",
       " 573.99194,\n",
       " 579.4419,\n",
       " 558.95825,\n",
       " 578.7095,\n",
       " 583.2989,\n",
       " 590.6297,\n",
       " 557.82837,\n",
       " 595.7439,\n",
       " 572.84985,\n",
       " 557.35425,\n",
       " 586.9654,\n",
       " 575.0795,\n",
       " 580.0284,\n",
       " 573.9911,\n",
       " 560.7104,\n",
       " 578.6721,\n",
       " 586.05664,\n",
       " 575.33453,\n",
       " 601.05786,\n",
       " 585.75916,\n",
       " 592.29456,\n",
       " 608.01825,\n",
       " 600.14764,\n",
       " 605.4068,\n",
       " 594.67725,\n",
       " 602.0488,\n",
       " 575.96924,\n",
       " 580.56067,\n",
       " 574.8484,\n",
       " 597.0185,\n",
       " 589.189,\n",
       " 604.1093,\n",
       " 579.52924,\n",
       " 540.8367,\n",
       " 563.3802,\n",
       " 581.1295,\n",
       " 590.52295,\n",
       " 571.45416,\n",
       " 600.1187,\n",
       " 607.28766,\n",
       " 580.74976,\n",
       " 596.33813,\n",
       " 586.03436,\n",
       " 586.09827,\n",
       " 575.3218,\n",
       " 598.0994,\n",
       " 591.0412,\n",
       " 586.61456,\n",
       " 599.82874,\n",
       " 568.60406,\n",
       " 577.646,\n",
       " 605.16943,\n",
       " 607.75726,\n",
       " 580.0539,\n",
       " 620.7021,\n",
       " 607.7501,\n",
       " 605.6946,\n",
       " 599.7758,\n",
       " 609.68976,\n",
       " 596.8789,\n",
       " 563.4597,\n",
       " 582.5714,\n",
       " 602.22595,\n",
       " 536.1962,\n",
       " 535.8798,\n",
       " 541.4248,\n",
       " 551.3325,\n",
       " 552.3604,\n",
       " 555.01373,\n",
       " 548.0201,\n",
       " 566.32074,\n",
       " 576.2927,\n",
       " 548.66693,\n",
       " 574.3321,\n",
       " 589.57715,\n",
       " 567.7017,\n",
       " 571.5064,\n",
       " 598.42303,\n",
       " 576.5916,\n",
       " 562.178,\n",
       " 592.4051,\n",
       " 598.3724,\n",
       " 535.0306,\n",
       " 529.0783,\n",
       " 559.2222,\n",
       " 564.27405,\n",
       " 576.9454,\n",
       " 576.3727,\n",
       " 572.04803,\n",
       " 569.4584,\n",
       " 596.42474,\n",
       " 596.0531,\n",
       " 583.41956,\n",
       " 588.5396,\n",
       " 590.7776,\n",
       " 582.9411,\n",
       " 593.1899,\n",
       " 579.6038,\n",
       " 557.0024,\n",
       " 573.1148,\n",
       " 604.9633,\n",
       " 601.98096,\n",
       " 594.86096,\n",
       " 585.89703,\n",
       " 585.3738,\n",
       " 575.75745,\n",
       " 569.4485,\n",
       " 569.0554,\n",
       " 584.898,\n",
       " 585.947,\n",
       " 587.433,\n",
       " 578.6378,\n",
       " 564.16113,\n",
       " 569.34393,\n",
       " 590.5385,\n",
       " 593.46875,\n",
       " 572.9147,\n",
       " 576.54584,\n",
       " 576.04236,\n",
       " 558.25024,\n",
       " 578.3048,\n",
       " 587.84546,\n",
       " 589.2465,\n",
       " 605.0698,\n",
       " 573.3448,\n",
       " 573.0032,\n",
       " 568.549,\n",
       " 568.1049,\n",
       " 597.74384,\n",
       " 583.3595,\n",
       " 569.9946,\n",
       " 584.16223,\n",
       " 592.4175,\n",
       " 582.8843,\n",
       " 597.6775,\n",
       " 593.3483,\n",
       " 610.7587,\n",
       " 602.5522,\n",
       " 594.6732,\n",
       " 590.9965,\n",
       " 601.9529,\n",
       " 575.3367,\n",
       " 574.1472,\n",
       " 567.4266,\n",
       " 573.3832,\n",
       " 585.6146,\n",
       " 575.53015,\n",
       " 561.41943,\n",
       " 614.8958,\n",
       " 561.7508,\n",
       " 584.8162,\n",
       " 564.77264,\n",
       " 576.3782,\n",
       " 576.062,\n",
       " 567.52734,\n",
       " 561.8866,\n",
       " 574.76355,\n",
       " 576.7915,\n",
       " 591.552,\n",
       " 569.56635,\n",
       " 576.5929,\n",
       " 574.9799,\n",
       " 570.29553,\n",
       " 516.5654,\n",
       " 580.686,\n",
       " 592.34644,\n",
       " 571.7762,\n",
       " 584.6488,\n",
       " 599.33044,\n",
       " 564.10126,\n",
       " 594.13916,\n",
       " 569.9627,\n",
       " 567.4751,\n",
       " 602.12335,\n",
       " 581.92944,\n",
       " 586.033,\n",
       " 573.2619,\n",
       " 587.0909,\n",
       " 584.70325,\n",
       " 557.9282,\n",
       " 593.3134,\n",
       " 582.0857,\n",
       " 605.7447,\n",
       " 593.57434,\n",
       " 585.72876,\n",
       " 585.179,\n",
       " 579.3114,\n",
       " 581.2926,\n",
       " 588.55304,\n",
       " 590.7931,\n",
       " 587.7311,\n",
       " 578.03424,\n",
       " 594.11615,\n",
       " 592.53516,\n",
       " 587.9291,\n",
       " 606.3938,\n",
       " 590.3467,\n",
       " 571.2982,\n",
       " 572.1061,\n",
       " 570.32324,\n",
       " 595.0277,\n",
       " 598.55505,\n",
       " 602.2016,\n",
       " 587.1398,\n",
       " 594.69055,\n",
       " 576.40405,\n",
       " 575.22345,\n",
       " 573.7499,\n",
       " 601.0489,\n",
       " 599.98926,\n",
       " 592.2163,\n",
       " 588.4006,\n",
       " 569.17584,\n",
       " 579.61487,\n",
       " 574.202,\n",
       " 608.5745,\n",
       " 584.4565,\n",
       " 600.8667,\n",
       " 578.1131,\n",
       " 584.28064,\n",
       " 583.1738,\n",
       " 589.96063,\n",
       " 603.08704,\n",
       " 597.7532,\n",
       " 597.52216,\n",
       " 584.47577,\n",
       " 588.31976,\n",
       " 568.56744,\n",
       " 604.8245,\n",
       " 578.4104,\n",
       " 582.88324,\n",
       " 580.72565,\n",
       " 583.8629,\n",
       " 602.5091,\n",
       " 575.47876,\n",
       " 591.9967,\n",
       " 579.8326,\n",
       " 596.0587,\n",
       " 591.22504,\n",
       " 573.48065,\n",
       " 602.2984,\n",
       " 590.90546,\n",
       " 606.0217,\n",
       " 581.4926,\n",
       " 602.9992,\n",
       " 588.86884,\n",
       " 571.2347,\n",
       " 597.4273,\n",
       " 585.53455,\n",
       " 608.64514,\n",
       " 582.2791,\n",
       " 562.7852,\n",
       " 589.5985,\n",
       " 565.51184,\n",
       " 595.04877,\n",
       " 594.08844,\n",
       " 593.9919,\n",
       " 592.1872,\n",
       " 609.2882,\n",
       " 595.02185,\n",
       " 577.22473,\n",
       " 571.17334,\n",
       " 567.1313,\n",
       " 580.1905,\n",
       " 605.7875,\n",
       " 596.5434,\n",
       " 591.0035,\n",
       " 564.1331,\n",
       " 585.27625,\n",
       " 586.73346,\n",
       " 595.4727,\n",
       " 595.57947,\n",
       " 579.2154,\n",
       " 587.2795,\n",
       " 596.0145,\n",
       " 583.6768,\n",
       " 568.9667,\n",
       " 573.52563,\n",
       " 575.14795,\n",
       " 574.5645,\n",
       " 571.42755,\n",
       " 576.31604,\n",
       " 575.8643,\n",
       " 586.1797,\n",
       " 572.3407,\n",
       " 578.11725,\n",
       " 572.8889,\n",
       " 594.50903,\n",
       " 601.4022,\n",
       " 603.3068,\n",
       " 600.91595,\n",
       " 598.53033,\n",
       " 591.6891,\n",
       " 581.51886,\n",
       " 592.7855,\n",
       " 600.0602,\n",
       " 587.32446,\n",
       " 593.03723,\n",
       " 584.43445,\n",
       " 578.39734,\n",
       " 564.2565,\n",
       " 588.33325,\n",
       " 594.7395,\n",
       " 584.6658,\n",
       " 586.4601,\n",
       " 602.1271,\n",
       " 594.7689,\n",
       " 590.7215,\n",
       " 573.97424,\n",
       " 565.46875,\n",
       " 562.497,\n",
       " 603.8715,\n",
       " 581.0432,\n",
       " 588.7074,\n",
       " 597.851,\n",
       " 580.3171,\n",
       " 610.6116,\n",
       " 599.86523,\n",
       " 600.25726,\n",
       " 610.76654,\n",
       " 589.2122,\n",
       " 572.48566,\n",
       " 609.86725,\n",
       " 597.2337,\n",
       " 596.25775,\n",
       " 584.2861,\n",
       " 579.28613,\n",
       " 587.38477,\n",
       " 580.0955,\n",
       " 570.02374,\n",
       " 586.8601,\n",
       " 580.7889,\n",
       " 584.6697,\n",
       " 587.21606,\n",
       " 595.4867,\n",
       " 570.91113,\n",
       " 568.6497,\n",
       " 560.2262,\n",
       " 563.80725,\n",
       " 579.0167,\n",
       " 588.3656,\n",
       " 579.3961,\n",
       " 568.7987,\n",
       " 576.3596,\n",
       " 578.3016,\n",
       " 586.59235,\n",
       " 579.56195,\n",
       " 583.83167,\n",
       " 575.44965,\n",
       " 577.7648,\n",
       " 582.8007,\n",
       " 570.35754,\n",
       " 573.849,\n",
       " 584.82074,\n",
       " 587.18054,\n",
       " 598.58057,\n",
       " 583.1086,\n",
       " 578.81647,\n",
       " 606.57666,\n",
       " 601.2143,\n",
       " 610.9101,\n",
       " 586.9184,\n",
       " 597.28064,\n",
       " 589.0708,\n",
       " 583.60706,\n",
       " 578.93933,\n",
       " 589.21594,\n",
       " 578.34015,\n",
       " 588.15906,\n",
       " 582.93665,\n",
       " 607.2053,\n",
       " 594.59235,\n",
       " 587.50146,\n",
       " 582.9518,\n",
       " 567.05414,\n",
       " 589.60724,\n",
       " 579.4252,\n",
       " 568.2442,\n",
       " 581.74207,\n",
       " 579.1549,\n",
       " 578.5734,\n",
       " 587.8297,\n",
       " 592.5877,\n",
       " 591.66345,\n",
       " 588.30774,\n",
       " 587.4786,\n",
       " 597.7403,\n",
       " 603.7356,\n",
       " 571.09924,\n",
       " 598.8832,\n",
       " 594.04614,\n",
       " 601.39764,\n",
       " 609.40985,\n",
       " 594.7078,\n",
       " 612.5575,\n",
       " 589.8462,\n",
       " 584.6149,\n",
       " 580.7797,\n",
       " 572.62836,\n",
       " 587.3099,\n",
       " 575.07056,\n",
       " 549.1022,\n",
       " 574.0254,\n",
       " 571.38104,\n",
       " 587.1885,\n",
       " 591.8491,\n",
       " 595.5832,\n",
       " 585.17725,\n",
       " 572.7049,\n",
       " 578.8226,\n",
       " 573.05206,\n",
       " 573.7116,\n",
       " 594.03357,\n",
       " 582.3645,\n",
       " 583.8447,\n",
       " ...]"
      ]
     },
     "execution_count": 10,
     "metadata": {},
     "output_type": "execute_result"
    }
   ],
   "source": [
    "agent.states_tracked"
   ]
  },
  {
   "cell_type": "markdown",
   "metadata": {},
   "source": [
    "### Tracking Convergence"
   ]
  },
  {
   "cell_type": "code",
   "execution_count": 11,
   "metadata": {},
   "outputs": [],
   "source": [
    "state_tracked_sample = [agent.states_tracked[i] for i in range(len(agent.states_tracked)) if agent.states_tracked[i] < 1000]"
   ]
  },
  {
   "cell_type": "code",
   "execution_count": 12,
   "metadata": {},
   "outputs": [
    {
     "data": {
      "text/plain": [
       "[180.23051,\n",
       " 116.69024,\n",
       " 151.34106,\n",
       " 233.78166,\n",
       " 334.4411,\n",
       " 442.7301,\n",
       " 381.0759,\n",
       " 253.33376,\n",
       " 306.4005,\n",
       " 353.72098,\n",
       " 319.64246,\n",
       " 403.1417,\n",
       " 354.96442,\n",
       " 381.1034,\n",
       " 464.3209,\n",
       " 381.08167,\n",
       " 380.78943,\n",
       " 440.0802,\n",
       " 344.85556,\n",
       " 361.0659,\n",
       " 394.28775,\n",
       " 403.03177,\n",
       " 236.13618,\n",
       " 341.88278,\n",
       " 283.32874,\n",
       " 275.02353,\n",
       " 288.13617,\n",
       " 285.73898,\n",
       " 356.5816,\n",
       " 314.87878,\n",
       " 360.40585,\n",
       " 427.51736,\n",
       " 464.66208,\n",
       " 413.6306,\n",
       " 457.65402,\n",
       " 454.01297,\n",
       " 477.37604,\n",
       " 411.35236,\n",
       " 422.16205,\n",
       " 491.947,\n",
       " 458.74942,\n",
       " 484.2343,\n",
       " 438.1934,\n",
       " 465.4199,\n",
       " 543.3287,\n",
       " 472.94208,\n",
       " 560.86884,\n",
       " 751.7183,\n",
       " 620.5004,\n",
       " 486.01572,\n",
       " 527.04803,\n",
       " 575.4489,\n",
       " 544.04877,\n",
       " 507.93823,\n",
       " 555.1259,\n",
       " 511.05914,\n",
       " 503.84387,\n",
       " 468.95596,\n",
       " 455.13855,\n",
       " 546.58777,\n",
       " 496.46368,\n",
       " 490.44727,\n",
       " 470.29742,\n",
       " 507.69308,\n",
       " 502.10916,\n",
       " 539.40204,\n",
       " 502.40146,\n",
       " 507.31924,\n",
       " 496.8776,\n",
       " 513.81903,\n",
       " 526.21136,\n",
       " 512.1706,\n",
       " 454.48236,\n",
       " 506.48056,\n",
       " 550.3172,\n",
       " 566.95404,\n",
       " 543.2017,\n",
       " 529.70856,\n",
       " 542.35187,\n",
       " 564.40564,\n",
       " 544.3079,\n",
       " 523.5316,\n",
       " 523.3572,\n",
       " 537.69025,\n",
       " 542.112,\n",
       " 553.8348,\n",
       " 544.3852,\n",
       " 528.5982,\n",
       " 563.59186,\n",
       " 596.0877,\n",
       " 527.84454,\n",
       " 550.6814,\n",
       " 544.7109,\n",
       " 542.2918,\n",
       " 531.2874,\n",
       " 512.9242,\n",
       " 538.31934,\n",
       " 523.31244,\n",
       " 519.94794,\n",
       " 529.9884,\n",
       " 534.6711,\n",
       " 526.3349,\n",
       " 506.53958,\n",
       " 529.3706,\n",
       " 528.2794,\n",
       " 544.76746,\n",
       " 550.2981,\n",
       " 541.1646,\n",
       " 519.90924,\n",
       " 549.8124,\n",
       " 525.6213,\n",
       " 522.3091,\n",
       " 506.9173,\n",
       " 529.7611,\n",
       " 560.8457,\n",
       " 513.2072,\n",
       " 533.89545,\n",
       " 527.7459,\n",
       " 527.0065,\n",
       " 526.88635,\n",
       " 523.31177,\n",
       " 523.4383,\n",
       " 564.1964,\n",
       " 525.90533,\n",
       " 500.73126,\n",
       " 474.2897,\n",
       " 490.7491,\n",
       " 529.33026,\n",
       " 513.8199,\n",
       " 542.07996,\n",
       " 528.40594,\n",
       " 538.462,\n",
       " 521.5743,\n",
       " 517.9335,\n",
       " 517.56683,\n",
       " 516.7106,\n",
       " 536.59686,\n",
       " 553.353,\n",
       " 533.3954,\n",
       " 551.53436,\n",
       " 541.55347,\n",
       " 546.1482,\n",
       " 524.448,\n",
       " 522.0995,\n",
       " 491.7497,\n",
       " 515.8752,\n",
       " 543.97174,\n",
       " 526.6499,\n",
       " 501.74335,\n",
       " 506.9093,\n",
       " 529.1371,\n",
       " 514.8705,\n",
       " 483.9788,\n",
       " 503.87067,\n",
       " 625.20905,\n",
       " 546.97125,\n",
       " 553.16815,\n",
       " 549.51666,\n",
       " 524.1011,\n",
       " 574.9137,\n",
       " 573.23145,\n",
       " 566.2731,\n",
       " 587.3969,\n",
       " 587.5208,\n",
       " 573.4021,\n",
       " 621.83594,\n",
       " 621.7841,\n",
       " 609.9953,\n",
       " 589.52496,\n",
       " 582.2684,\n",
       " 551.7753,\n",
       " 561.59784,\n",
       " 542.7171,\n",
       " 600.98126,\n",
       " 592.71875,\n",
       " 561.553,\n",
       " 543.5007,\n",
       " 565.25995,\n",
       " 528.17316,\n",
       " 556.1436,\n",
       " 530.4501,\n",
       " 570.4541,\n",
       " 569.68304,\n",
       " 538.3966,\n",
       " 559.7358,\n",
       " 579.4282,\n",
       " 606.6501,\n",
       " 593.868,\n",
       " 580.7128,\n",
       " 598.0355,\n",
       " 583.45276,\n",
       " 580.1429,\n",
       " 572.2837,\n",
       " 590.9693,\n",
       " 629.3072,\n",
       " 592.934,\n",
       " 600.8423,\n",
       " 593.01697,\n",
       " 600.5385,\n",
       " 574.7527,\n",
       " 606.52356,\n",
       " 635.61,\n",
       " 601.8989,\n",
       " 591.9127,\n",
       " 587.55505,\n",
       " 580.3197,\n",
       " 546.7276,\n",
       " 591.2585,\n",
       " 562.23706,\n",
       " 588.4247,\n",
       " 573.5406,\n",
       " 608.983,\n",
       " 565.1743,\n",
       " 552.3364,\n",
       " 590.0778,\n",
       " 586.4445,\n",
       " 572.3808,\n",
       " 575.841,\n",
       " 641.76654,\n",
       " 580.46515,\n",
       " 547.11566,\n",
       " 580.59015,\n",
       " 543.7226,\n",
       " 562.59546,\n",
       " 568.3386,\n",
       " 555.21545,\n",
       " 575.5129,\n",
       " 545.4311,\n",
       " 583.815,\n",
       " 593.2942,\n",
       " 554.35913,\n",
       " 555.4719,\n",
       " 570.7544,\n",
       " 576.5271,\n",
       " 547.40784,\n",
       " 565.5773,\n",
       " 594.1656,\n",
       " 573.9912,\n",
       " 574.55334,\n",
       " 583.84296,\n",
       " 574.935,\n",
       " 578.72,\n",
       " 589.4419,\n",
       " 614.35547,\n",
       " 585.6286,\n",
       " 590.3712,\n",
       " 610.5823,\n",
       " 590.96277,\n",
       " 608.09863,\n",
       " 587.344,\n",
       " 601.3909,\n",
       " 613.8693,\n",
       " 574.32965,\n",
       " 564.7185,\n",
       " 566.0849,\n",
       " 609.96606,\n",
       " 572.6304,\n",
       " 586.6141,\n",
       " 603.50183,\n",
       " 548.4481,\n",
       " 569.4794,\n",
       " 600.80255,\n",
       " 573.15814,\n",
       " 594.36835,\n",
       " 594.0355,\n",
       " 580.47754,\n",
       " 589.2186,\n",
       " 601.08276,\n",
       " 573.279,\n",
       " 587.82947,\n",
       " 598.6719,\n",
       " 559.3907,\n",
       " 595.6136,\n",
       " 601.446,\n",
       " 593.75366,\n",
       " 576.15393,\n",
       " 573.76263,\n",
       " 604.83655,\n",
       " 584.5774,\n",
       " 584.29584,\n",
       " 583.52686,\n",
       " 607.01624,\n",
       " 585.374,\n",
       " 597.3731,\n",
       " 571.6253,\n",
       " 561.41235,\n",
       " 552.8816,\n",
       " 584.2203,\n",
       " 574.1018,\n",
       " 565.2577,\n",
       " 590.2705,\n",
       " 599.657,\n",
       " 567.67,\n",
       " 607.76154,\n",
       " 603.76105,\n",
       " 585.17664,\n",
       " 568.54535,\n",
       " 585.6351,\n",
       " 569.7841,\n",
       " 581.64886,\n",
       " 613.7879,\n",
       " 589.6293,\n",
       " 603.98364,\n",
       " 563.64935,\n",
       " 592.57666,\n",
       " 559.8191,\n",
       " 556.12634,\n",
       " 585.01337,\n",
       " 591.1363,\n",
       " 602.11,\n",
       " 594.67236,\n",
       " 595.9212,\n",
       " 597.71344,\n",
       " 585.35657,\n",
       " 558.13885,\n",
       " 592.19476,\n",
       " 591.0551,\n",
       " 547.15936,\n",
       " 556.74994,\n",
       " 574.01544,\n",
       " 580.23773,\n",
       " 594.786,\n",
       " 585.6836,\n",
       " 596.6776,\n",
       " 610.26605,\n",
       " 580.90643,\n",
       " 567.82965,\n",
       " 594.3578,\n",
       " 561.5814,\n",
       " 588.17126,\n",
       " 605.06323,\n",
       " 581.6584,\n",
       " 584.92615,\n",
       " 582.23694,\n",
       " 565.58813,\n",
       " 573.6146,\n",
       " 574.27985,\n",
       " 569.45087,\n",
       " 568.7402,\n",
       " 611.9206,\n",
       " 584.8282,\n",
       " 591.84827,\n",
       " 552.12335,\n",
       " 595.0507,\n",
       " 581.09625,\n",
       " 575.5384,\n",
       " 612.2703,\n",
       " 590.9597,\n",
       " 573.137,\n",
       " 558.5911,\n",
       " 570.5242,\n",
       " 561.84534,\n",
       " 563.0881,\n",
       " 583.3018,\n",
       " 579.3533,\n",
       " 572.9575,\n",
       " 566.60156,\n",
       " 566.9612,\n",
       " 556.591,\n",
       " 549.8275,\n",
       " 556.37646,\n",
       " 544.5056,\n",
       " 599.30145,\n",
       " 589.6361,\n",
       " 571.88403,\n",
       " 578.30554,\n",
       " 577.8503,\n",
       " 568.5927,\n",
       " 545.98,\n",
       " 575.09393,\n",
       " 619.3257,\n",
       " 595.90326,\n",
       " 583.9315,\n",
       " 595.6752,\n",
       " 578.1102,\n",
       " 589.41,\n",
       " 562.9328,\n",
       " 577.292,\n",
       " 574.90546,\n",
       " 585.4343,\n",
       " 543.09937,\n",
       " 583.1367,\n",
       " 571.1892,\n",
       " 578.8728,\n",
       " 578.1489,\n",
       " 572.5748,\n",
       " 568.13916,\n",
       " 601.3923,\n",
       " 602.3613,\n",
       " 591.728,\n",
       " 592.44305,\n",
       " 580.32715,\n",
       " 564.926,\n",
       " 603.4488,\n",
       " 596.5965,\n",
       " 599.6506,\n",
       " 586.37006,\n",
       " 593.2064,\n",
       " 604.83936,\n",
       " 586.0351,\n",
       " 594.96155,\n",
       " 575.89185,\n",
       " 607.3655,\n",
       " 568.5214,\n",
       " 575.33093,\n",
       " 572.5319,\n",
       " 571.1244,\n",
       " 577.39655,\n",
       " 561.33246,\n",
       " 564.4489,\n",
       " 553.8004,\n",
       " 576.572,\n",
       " 573.1474,\n",
       " 544.4889,\n",
       " 590.20953,\n",
       " 591.37964,\n",
       " 579.4076,\n",
       " 560.5893,\n",
       " 554.8206,\n",
       " 581.79987,\n",
       " 568.77936,\n",
       " 569.85394,\n",
       " 566.66785,\n",
       " 551.95996,\n",
       " 599.81177,\n",
       " 568.2087,\n",
       " 568.9746,\n",
       " 559.9785,\n",
       " 597.8792,\n",
       " 572.99817,\n",
       " 573.8321,\n",
       " 556.4568,\n",
       " 576.2056,\n",
       " 557.45685,\n",
       " 574.25964,\n",
       " 555.7763,\n",
       " 552.52167,\n",
       " 585.1048,\n",
       " 577.06104,\n",
       " 596.1568,\n",
       " 591.3173,\n",
       " 549.52563,\n",
       " 572.06256,\n",
       " 604.05676,\n",
       " 584.66345,\n",
       " 591.90125,\n",
       " 579.44855,\n",
       " 586.0016,\n",
       " 549.76184,\n",
       " 555.7261,\n",
       " 575.7246,\n",
       " 587.9437,\n",
       " 553.417,\n",
       " 553.26355,\n",
       " 562.07086,\n",
       " 563.5562,\n",
       " 569.9378,\n",
       " 597.20966,\n",
       " 554.1446,\n",
       " 571.0956,\n",
       " 564.6022,\n",
       " 558.5271,\n",
       " 584.3474,\n",
       " 565.15314,\n",
       " 568.468,\n",
       " 555.66583,\n",
       " 560.4218,\n",
       " 573.3762,\n",
       " 583.58636,\n",
       " 597.8075,\n",
       " 563.4165,\n",
       " 572.2141,\n",
       " 586.61664,\n",
       " 552.6383,\n",
       " 574.67163,\n",
       " 568.71277,\n",
       " 570.08844,\n",
       " 578.45264,\n",
       " 605.73914,\n",
       " 588.9985,\n",
       " 581.8108,\n",
       " 586.16034,\n",
       " 580.1748,\n",
       " 570.5178,\n",
       " 587.4324,\n",
       " 617.52216,\n",
       " 606.8651,\n",
       " 600.26843,\n",
       " 590.35004,\n",
       " 584.40234,\n",
       " 563.3307,\n",
       " 578.3887,\n",
       " 602.1836,\n",
       " 580.87006,\n",
       " 579.39685,\n",
       " 592.71466,\n",
       " 583.76227,\n",
       " 576.6426,\n",
       " 590.467,\n",
       " 572.4988,\n",
       " 570.93756,\n",
       " 600.8439,\n",
       " 614.07135,\n",
       " 589.541,\n",
       " 628.85767,\n",
       " 600.4002,\n",
       " 573.2293,\n",
       " 588.23486,\n",
       " 577.47266,\n",
       " 591.748,\n",
       " 577.3846,\n",
       " 569.55115,\n",
       " 602.2508,\n",
       " 597.3651,\n",
       " 590.10864,\n",
       " 593.3462,\n",
       " 576.0085,\n",
       " 558.58014,\n",
       " 587.06226,\n",
       " 569.009,\n",
       " 581.49084,\n",
       " 585.77856,\n",
       " 594.0815,\n",
       " 566.1602,\n",
       " 575.82574,\n",
       " 573.8552,\n",
       " 578.38495,\n",
       " 559.67285,\n",
       " 601.4642,\n",
       " 612.77655,\n",
       " 595.8554,\n",
       " 581.623,\n",
       " 588.17126,\n",
       " 586.41016,\n",
       " 574.13635,\n",
       " 565.1683,\n",
       " 583.84686,\n",
       " 575.3582,\n",
       " 555.5122,\n",
       " 570.08026,\n",
       " 571.42706,\n",
       " 592.8193,\n",
       " 590.13727,\n",
       " 620.6867,\n",
       " 609.93164,\n",
       " 618.7154,\n",
       " 610.293,\n",
       " 615.2155,\n",
       " 622.571,\n",
       " 593.3606,\n",
       " 601.4594,\n",
       " 581.92175,\n",
       " 598.0263,\n",
       " 565.9866,\n",
       " 608.05536,\n",
       " 594.797,\n",
       " 584.41296,\n",
       " 604.74286,\n",
       " 580.64923,\n",
       " 581.5009,\n",
       " 611.0147,\n",
       " 590.0762,\n",
       " 595.3052,\n",
       " 594.38837,\n",
       " 578.72003,\n",
       " 585.7313,\n",
       " 591.85736,\n",
       " 574.9975,\n",
       " 574.01373,\n",
       " 574.1963,\n",
       " 575.9465,\n",
       " 587.3554,\n",
       " 573.11304,\n",
       " 602.00134,\n",
       " 560.8986,\n",
       " 606.745,\n",
       " 588.3849,\n",
       " 567.4217,\n",
       " 574.7657,\n",
       " 589.7366,\n",
       " 587.5782,\n",
       " 578.6751,\n",
       " 585.1778,\n",
       " 596.8407,\n",
       " 573.99194,\n",
       " 579.4419,\n",
       " 558.95825,\n",
       " 578.7095,\n",
       " 583.2989,\n",
       " 590.6297,\n",
       " 557.82837,\n",
       " 595.7439,\n",
       " 572.84985,\n",
       " 557.35425,\n",
       " 586.9654,\n",
       " 575.0795,\n",
       " 580.0284,\n",
       " 573.9911,\n",
       " 560.7104,\n",
       " 578.6721,\n",
       " 586.05664,\n",
       " 575.33453,\n",
       " 601.05786,\n",
       " 585.75916,\n",
       " 592.29456,\n",
       " 608.01825,\n",
       " 600.14764,\n",
       " 605.4068,\n",
       " 594.67725,\n",
       " 602.0488,\n",
       " 575.96924,\n",
       " 580.56067,\n",
       " 574.8484,\n",
       " 597.0185,\n",
       " 589.189,\n",
       " 604.1093,\n",
       " 579.52924,\n",
       " 540.8367,\n",
       " 563.3802,\n",
       " 581.1295,\n",
       " 590.52295,\n",
       " 571.45416,\n",
       " 600.1187,\n",
       " 607.28766,\n",
       " 580.74976,\n",
       " 596.33813,\n",
       " 586.03436,\n",
       " 586.09827,\n",
       " 575.3218,\n",
       " 598.0994,\n",
       " 591.0412,\n",
       " 586.61456,\n",
       " 599.82874,\n",
       " 568.60406,\n",
       " 577.646,\n",
       " 605.16943,\n",
       " 607.75726,\n",
       " 580.0539,\n",
       " 620.7021,\n",
       " 607.7501,\n",
       " 605.6946,\n",
       " 599.7758,\n",
       " 609.68976,\n",
       " 596.8789,\n",
       " 563.4597,\n",
       " 582.5714,\n",
       " 602.22595,\n",
       " 536.1962,\n",
       " 535.8798,\n",
       " 541.4248,\n",
       " 551.3325,\n",
       " 552.3604,\n",
       " 555.01373,\n",
       " 548.0201,\n",
       " 566.32074,\n",
       " 576.2927,\n",
       " 548.66693,\n",
       " 574.3321,\n",
       " 589.57715,\n",
       " 567.7017,\n",
       " 571.5064,\n",
       " 598.42303,\n",
       " 576.5916,\n",
       " 562.178,\n",
       " 592.4051,\n",
       " 598.3724,\n",
       " 535.0306,\n",
       " 529.0783,\n",
       " 559.2222,\n",
       " 564.27405,\n",
       " 576.9454,\n",
       " 576.3727,\n",
       " 572.04803,\n",
       " 569.4584,\n",
       " 596.42474,\n",
       " 596.0531,\n",
       " 583.41956,\n",
       " 588.5396,\n",
       " 590.7776,\n",
       " 582.9411,\n",
       " 593.1899,\n",
       " 579.6038,\n",
       " 557.0024,\n",
       " 573.1148,\n",
       " 604.9633,\n",
       " 601.98096,\n",
       " 594.86096,\n",
       " 585.89703,\n",
       " 585.3738,\n",
       " 575.75745,\n",
       " 569.4485,\n",
       " 569.0554,\n",
       " 584.898,\n",
       " 585.947,\n",
       " 587.433,\n",
       " 578.6378,\n",
       " 564.16113,\n",
       " 569.34393,\n",
       " 590.5385,\n",
       " 593.46875,\n",
       " 572.9147,\n",
       " 576.54584,\n",
       " 576.04236,\n",
       " 558.25024,\n",
       " 578.3048,\n",
       " 587.84546,\n",
       " 589.2465,\n",
       " 605.0698,\n",
       " 573.3448,\n",
       " 573.0032,\n",
       " 568.549,\n",
       " 568.1049,\n",
       " 597.74384,\n",
       " 583.3595,\n",
       " 569.9946,\n",
       " 584.16223,\n",
       " 592.4175,\n",
       " 582.8843,\n",
       " 597.6775,\n",
       " 593.3483,\n",
       " 610.7587,\n",
       " 602.5522,\n",
       " 594.6732,\n",
       " 590.9965,\n",
       " 601.9529,\n",
       " 575.3367,\n",
       " 574.1472,\n",
       " 567.4266,\n",
       " 573.3832,\n",
       " 585.6146,\n",
       " 575.53015,\n",
       " 561.41943,\n",
       " 614.8958,\n",
       " 561.7508,\n",
       " 584.8162,\n",
       " 564.77264,\n",
       " 576.3782,\n",
       " 576.062,\n",
       " 567.52734,\n",
       " 561.8866,\n",
       " 574.76355,\n",
       " 576.7915,\n",
       " 591.552,\n",
       " 569.56635,\n",
       " 576.5929,\n",
       " 574.9799,\n",
       " 570.29553,\n",
       " 516.5654,\n",
       " 580.686,\n",
       " 592.34644,\n",
       " 571.7762,\n",
       " 584.6488,\n",
       " 599.33044,\n",
       " 564.10126,\n",
       " 594.13916,\n",
       " 569.9627,\n",
       " 567.4751,\n",
       " 602.12335,\n",
       " 581.92944,\n",
       " 586.033,\n",
       " 573.2619,\n",
       " 587.0909,\n",
       " 584.70325,\n",
       " 557.9282,\n",
       " 593.3134,\n",
       " 582.0857,\n",
       " 605.7447,\n",
       " 593.57434,\n",
       " 585.72876,\n",
       " 585.179,\n",
       " 579.3114,\n",
       " 581.2926,\n",
       " 588.55304,\n",
       " 590.7931,\n",
       " 587.7311,\n",
       " 578.03424,\n",
       " 594.11615,\n",
       " 592.53516,\n",
       " 587.9291,\n",
       " 606.3938,\n",
       " 590.3467,\n",
       " 571.2982,\n",
       " 572.1061,\n",
       " 570.32324,\n",
       " 595.0277,\n",
       " 598.55505,\n",
       " 602.2016,\n",
       " 587.1398,\n",
       " 594.69055,\n",
       " 576.40405,\n",
       " 575.22345,\n",
       " 573.7499,\n",
       " 601.0489,\n",
       " 599.98926,\n",
       " 592.2163,\n",
       " 588.4006,\n",
       " 569.17584,\n",
       " 579.61487,\n",
       " 574.202,\n",
       " 608.5745,\n",
       " 584.4565,\n",
       " 600.8667,\n",
       " 578.1131,\n",
       " 584.28064,\n",
       " 583.1738,\n",
       " 589.96063,\n",
       " 603.08704,\n",
       " 597.7532,\n",
       " 597.52216,\n",
       " 584.47577,\n",
       " 588.31976,\n",
       " 568.56744,\n",
       " 604.8245,\n",
       " 578.4104,\n",
       " 582.88324,\n",
       " 580.72565,\n",
       " 583.8629,\n",
       " 602.5091,\n",
       " 575.47876,\n",
       " 591.9967,\n",
       " 579.8326,\n",
       " 596.0587,\n",
       " 591.22504,\n",
       " 573.48065,\n",
       " 602.2984,\n",
       " 590.90546,\n",
       " 606.0217,\n",
       " 581.4926,\n",
       " 602.9992,\n",
       " 588.86884,\n",
       " 571.2347,\n",
       " 597.4273,\n",
       " 585.53455,\n",
       " 608.64514,\n",
       " 582.2791,\n",
       " 562.7852,\n",
       " 589.5985,\n",
       " 565.51184,\n",
       " 595.04877,\n",
       " 594.08844,\n",
       " 593.9919,\n",
       " 592.1872,\n",
       " 609.2882,\n",
       " 595.02185,\n",
       " 577.22473,\n",
       " 571.17334,\n",
       " 567.1313,\n",
       " 580.1905,\n",
       " 605.7875,\n",
       " 596.5434,\n",
       " 591.0035,\n",
       " 564.1331,\n",
       " 585.27625,\n",
       " 586.73346,\n",
       " 595.4727,\n",
       " 595.57947,\n",
       " 579.2154,\n",
       " 587.2795,\n",
       " 596.0145,\n",
       " 583.6768,\n",
       " 568.9667,\n",
       " 573.52563,\n",
       " 575.14795,\n",
       " 574.5645,\n",
       " 571.42755,\n",
       " 576.31604,\n",
       " 575.8643,\n",
       " 586.1797,\n",
       " 572.3407,\n",
       " 578.11725,\n",
       " 572.8889,\n",
       " 594.50903,\n",
       " 601.4022,\n",
       " 603.3068,\n",
       " 600.91595,\n",
       " 598.53033,\n",
       " 591.6891,\n",
       " 581.51886,\n",
       " 592.7855,\n",
       " 600.0602,\n",
       " 587.32446,\n",
       " 593.03723,\n",
       " 584.43445,\n",
       " 578.39734,\n",
       " 564.2565,\n",
       " 588.33325,\n",
       " 594.7395,\n",
       " 584.6658,\n",
       " 586.4601,\n",
       " 602.1271,\n",
       " 594.7689,\n",
       " 590.7215,\n",
       " 573.97424,\n",
       " 565.46875,\n",
       " 562.497,\n",
       " 603.8715,\n",
       " 581.0432,\n",
       " 588.7074,\n",
       " 597.851,\n",
       " 580.3171,\n",
       " 610.6116,\n",
       " 599.86523,\n",
       " 600.25726,\n",
       " 610.76654,\n",
       " 589.2122,\n",
       " 572.48566,\n",
       " 609.86725,\n",
       " 597.2337,\n",
       " 596.25775,\n",
       " 584.2861,\n",
       " 579.28613,\n",
       " 587.38477,\n",
       " 580.0955,\n",
       " 570.02374,\n",
       " 586.8601,\n",
       " 580.7889,\n",
       " 584.6697,\n",
       " 587.21606,\n",
       " 595.4867,\n",
       " 570.91113,\n",
       " 568.6497,\n",
       " 560.2262,\n",
       " 563.80725,\n",
       " 579.0167,\n",
       " 588.3656,\n",
       " 579.3961,\n",
       " 568.7987,\n",
       " 576.3596,\n",
       " 578.3016,\n",
       " 586.59235,\n",
       " 579.56195,\n",
       " 583.83167,\n",
       " 575.44965,\n",
       " 577.7648,\n",
       " 582.8007,\n",
       " 570.35754,\n",
       " 573.849,\n",
       " 584.82074,\n",
       " 587.18054,\n",
       " 598.58057,\n",
       " 583.1086,\n",
       " 578.81647,\n",
       " 606.57666,\n",
       " 601.2143,\n",
       " 610.9101,\n",
       " 586.9184,\n",
       " 597.28064,\n",
       " 589.0708,\n",
       " 583.60706,\n",
       " 578.93933,\n",
       " 589.21594,\n",
       " 578.34015,\n",
       " 588.15906,\n",
       " 582.93665,\n",
       " 607.2053,\n",
       " 594.59235,\n",
       " 587.50146,\n",
       " 582.9518,\n",
       " 567.05414,\n",
       " 589.60724,\n",
       " 579.4252,\n",
       " 568.2442,\n",
       " 581.74207,\n",
       " 579.1549,\n",
       " 578.5734,\n",
       " 587.8297,\n",
       " 592.5877,\n",
       " 591.66345,\n",
       " 588.30774,\n",
       " 587.4786,\n",
       " 597.7403,\n",
       " 603.7356,\n",
       " 571.09924,\n",
       " 598.8832,\n",
       " 594.04614,\n",
       " 601.39764,\n",
       " 609.40985,\n",
       " 594.7078,\n",
       " 612.5575,\n",
       " 589.8462,\n",
       " 584.6149,\n",
       " 580.7797,\n",
       " 572.62836,\n",
       " 587.3099,\n",
       " 575.07056,\n",
       " 549.1022,\n",
       " 574.0254,\n",
       " 571.38104,\n",
       " 587.1885,\n",
       " 591.8491,\n",
       " 595.5832,\n",
       " 585.17725,\n",
       " 572.7049,\n",
       " 578.8226,\n",
       " 573.05206,\n",
       " 573.7116,\n",
       " 594.03357,\n",
       " 582.3645,\n",
       " 583.8447,\n",
       " 571.2808,\n",
       " ...]"
      ]
     },
     "execution_count": 12,
     "metadata": {},
     "output_type": "execute_result"
    }
   ],
   "source": [
    "state_tracked_sample"
   ]
  },
  {
   "cell_type": "code",
   "execution_count": 13,
   "metadata": {},
   "outputs": [
    {
     "data": {
      "image/png": "[encoded data removed]",
      "text/plain": [
       "<Figure size 1152x504 with 1 Axes>"
      ]
     },
     "metadata": {
      "needs_background": "light"
     },
     "output_type": "display_data"
    }
   ],
   "source": [
    "plt.figure(0, figsize=(16,7))\n",
    "plt.title('Q_value for state [0,0,0]  action (0,2)')\n",
    "xaxis = np.asarray(range(0, len(agent.states_tracked)))\n",
    "plt.semilogy(xaxis,np.asarray(agent.states_tracked))\n",
    "plt.show()"
   ]
  },
  {
   "cell_type": "markdown",
   "metadata": {},
   "source": [
    "#### Tracking rewards per episode"
   ]
  },
  {
   "cell_type": "code",
   "execution_count": 14,
   "metadata": {},
   "outputs": [],
   "source": [
    "score_tracked_sample = [score_tracked[i] for i in range(len(score_tracked)) if (i % 4 == 0)]"
   ]
  },
  {
   "cell_type": "code",
   "execution_count": 15,
   "metadata": {},
   "outputs": [
    {
     "data": {
      "image/png": "[encoded data removed]",
      "text/plain": [
       "<Figure size 1152x504 with 1 Axes>"
      ]
     },
     "metadata": {
      "needs_background": "light"
     },
     "output_type": "display_data"
    }
   ],
   "source": [
    "plt.figure(0, figsize=(16,7))\n",
    "plt.title('Rewards per episode')\n",
    "xaxis = np.asarray(range(0, len(score_tracked_sample)))\n",
    "plt.plot(xaxis,np.asarray(score_tracked_sample))\n",
    "plt.show()"
   ]
  },
  {
   "cell_type": "markdown",
   "metadata": {},
   "source": [
    "#### Epsilon-decay sample function"
   ]
  },
  {
   "cell_type": "markdown",
   "metadata": {},
   "source": [
    "<div class=\"alert alert-block alert-info\">\n",
    "Try building a similar epsilon-decay function for your model.\n",
    "</div>"
   ]
  },
  {
   "cell_type": "code",
   "execution_count": 16,
   "metadata": {},
   "outputs": [],
   "source": [
    "time = np.arange(0,10000)\n",
    "epsilon = []\n",
    "for i in range(0,10000):\n",
    "    epsilon.append(0 + (1 - 0) * np.exp(-0.0009*i))"
   ]
  },
  {
   "cell_type": "code",
   "execution_count": 17,
   "metadata": {},
   "outputs": [
    {
     "data": {
      "image/png": "[encoded data removed]",
      "text/plain": [
       "<Figure size 432x288 with 1 Axes>"
      ]
     },
     "metadata": {
      "needs_background": "light"
     },
     "output_type": "display_data"
    }
   ],
   "source": [
    "plt.plot(time, epsilon)\n",
    "plt.show()"
   ]
  },
  {
   "cell_type": "code",
   "execution_count": null,
   "metadata": {},
   "outputs": [],
   "source": []
  }
 ],
 "metadata": {
  "kernelspec": {
   "display_name": "Python 3",
   "language": "python",
   "name": "python3"
  },
  "language_info": {
   "codemirror_mode": {
    "name": "ipython",
    "version": 3
   },
   "file_extension": ".py",
   "mimetype": "text/x-python",
   "name": "python",
   "nbconvert_exporter": "python",
   "pygments_lexer": "ipython3",
   "version": "3.7.4"
  }
 },
 "nbformat": 4,
 "nbformat_minor": 2
}
